{
 "cells": [
  {
   "cell_type": "code",
   "execution_count": 1,
   "id": "e9ce7e79",
   "metadata": {},
   "outputs": [],
   "source": [
    "import pandas as pd\n",
    "pd.set_option('display.max_columns', None)  # Show all columns\n"
   ]
  },
  {
   "cell_type": "markdown",
   "id": "c822de47",
   "metadata": {},
   "source": [
    "# Import Datasets"
   ]
  },
  {
   "cell_type": "code",
   "execution_count": 5,
   "id": "f06605f4",
   "metadata": {},
   "outputs": [],
   "source": [
    "# Import df_CS.csv as df_CS\n",
    "df_CS = pd.read_csv('df_CS.csv')\n",
    "\n",
    "# Create a df called df_healthy with only the healthy controls from df_CS (covid_group == '0')\n",
    "df_healthy = df_CS[df_CS['covid_group'] == '0']\n",
    "\n",
    "# Import df_RCT.csv as df\n",
    "df = pd.read_csv('df_RCT.csv')"
   ]
  },
  {
   "cell_type": "markdown",
   "id": "14a2b49e",
   "metadata": {},
   "source": [
    "# Select Outcome Measures"
   ]
  },
  {
   "cell_type": "code",
   "execution_count": null,
   "id": "976c3967",
   "metadata": {},
   "outputs": [],
   "source": [
    "outcome_measures = {\n",
    "    # Vascular measures\n",
    "    'fmd_percent': {'name': 'Flow-Mediated Dilation', 'unit': '%'},\n",
    "    \n",
    "    # CPET Measures\n",
    "    'cpet_vo2peak_relative': {'name': 'VO2 Peak', 'unit': 'mL/kg/min'},\n",
    "    \n",
    "    # Respiratory measures (treating pre and post separately)\n",
    "    'mip_pre_max': {'name': 'MIP Max (Pre)', 'unit': 'cmH2O'},\n",
    "    'mip_post_max': {'name': 'MIP Max (Post)', 'unit': 'cmH2O'},\n",
    "    'mip_max_fatigue': {'name': 'MIP Max Fatigue', 'unit': 'cmH2O'},\n",
    "    'mip_max_fatigue_percent': {'name': 'MIP Max Fatigue (%)', 'unit': '%'},\n",
    "    'smip_pre_max': {'name': 'SMIP Max (Pre)', 'unit': 'cmH2O'},\n",
    "    'smip_post_max': {'name': 'SMIP Max (Post)', 'unit': 'cmH2O'},\n",
    "    'smip_max_fatigue': {'name': 'SMIP Max Fatigue', 'unit': 'cmH2O'},\n",
    "    'smip_max_fatigue_percent': {'name': 'SMIP Max Fatigue (%)', 'unit': '%'},\n",
    "    'pif_pre_max': {'name': 'PIF Max (Pre)', 'unit': 'cmH2O'},\n",
    "    'pif_post_max': {'name': 'PIF Max (Post)', 'unit': 'cmH2O'},\n",
    "    'pif_max_fatigue': {'name': 'PIF Max Fatigue', 'unit': 'cmH2O'},\n",
    "    'pif_max_fatigue_percent': {'name': 'PIF Max Fatigue (%)', 'unit': '%'},\n",
    "    'sindex_pre_max': {'name': 'SIndex Max (Pre)', 'unit': 'cmH2O'},\n",
    "    'sindex_post_max': {'name': 'SIndex Max (Post)', 'unit': 'cmH2O'},\n",
    "    'sindex_max_fatigue': {'name': 'SIndex Max Fatigue', 'unit': 'cmH2O'},\n",
    "    'sindex_max_fatigue_percent': {'name': 'SIndex Max Fatigue (%)', 'unit': '%'},\n",
    "\n",
    "    # Autonomic Measures\n",
    "    'hrv_sdnn': {'name': 'HRV SDNN', 'unit': 'ms'},\n",
    "    'hrv_rmssd': {'name': 'HRV RMSSD', 'unit': 'ms'},\n",
    "    'hrv_heartrate': {'name': 'Heart Rate', 'unit': 'bpm'},\n",
    "    'hrv_lf': {'name': 'HRV LF Power', 'unit': 'ms²'},\n",
    "    'hrv_hf': {'name': 'HRV HF Power', 'unit': 'ms²'},\n",
    "    'hrv_lfhf': {'name': 'HRV LF/HF Ratio', 'unit': ''},\n",
    "    'cpet_hrr1': {'name': 'HRR 1', 'unit': 'BPM'},\n",
    "    'cpet_hrr2': {'name': 'HRR 2', 'unit': 'BPM'},\n",
    "    'cpet_chronindex': {'name': 'Chronotropic Index (CI)', 'unit': ''},\n",
    "}\n"
   ]
  }
 ],
 "metadata": {
  "kernelspec": {
   "display_name": "base",
   "language": "python",
   "name": "python3"
  },
  "language_info": {
   "codemirror_mode": {
    "name": "ipython",
    "version": 3
   },
   "file_extension": ".py",
   "mimetype": "text/x-python",
   "name": "python",
   "nbconvert_exporter": "python",
   "pygments_lexer": "ipython3",
   "version": "3.12.4"
  }
 },
 "nbformat": 4,
 "nbformat_minor": 5
}
