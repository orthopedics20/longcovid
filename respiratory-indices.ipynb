{
 "cells": [
  {
   "cell_type": "code",
   "execution_count": null,
   "id": "b3ff5bba",
   "metadata": {},
   "outputs": [],
   "source": [
    "library(tidyverse)\n",
    "library(effectsize)\n",
    "library(pROC)\n",
    "library(dplyr)\n",
    "library(psych)\n"
   ]
  },
  {
   "cell_type": "markdown",
   "id": "fabeeb2b",
   "metadata": {},
   "source": [
    "# Import Dataset"
   ]
  },
  {
   "cell_type": "code",
   "execution_count": 92,
   "id": "fd88b21b",
   "metadata": {},
   "outputs": [],
   "source": [
    "df <- read.csv(\"C:/Users/ZCooper/Documents/GitHub/longcovid/df_full.csv\")\n",
    "df_cs <- read.csv(\"C:/Users/ZCooper/Documents/GitHub/longcovid/df_CS.csv\")\n",
    "df_rct <- read.csv(\"C:/Users/ZCooper/Documents/GitHub/longcovid/df_RCT.csv\")\n",
    "df_rct_wide <- read.csv(\"C:/Users/ZCooper/Documents/GitHub/longcovid/df_RCT_wide.csv\")"
   ]
  },
  {
   "cell_type": "markdown",
   "id": "a2b85c70",
   "metadata": {},
   "source": [
    "# Select Indices"
   ]
  },
  {
   "cell_type": "markdown",
   "id": "f9788505",
   "metadata": {},
   "source": [
    "## Original"
   ]
  },
  {
   "cell_type": "code",
   "execution_count": 152,
   "id": "30543fd5",
   "metadata": {},
   "outputs": [],
   "source": [
    "# list of respiratory indices (taken at baseline)\n",
    "vars <- c(\"mip_pre_max\", \"mip_pre_max_percentpredict_1\", \"mip_pre_max_percentpredict_2\", \"mip_post_max_percentpredict_1\", \"mip_post_max_percentpredict_2\", \"smip_pre_max\", \"slopesmip_pre_max\", \"id_pre_max\", \"pif_pre_max\", \n",
    "          \"volume_pre_max\", \"sindex_pre_max\", \"sindex_pre_max_percentpredict\", \"fit_pre_max\", \"mip_post_max\", \"smip_post_max\", \"slopesmip_post_max\", \"id_post_max\", \"pif_post_max\", \n",
    "          \"volume_post_max\", \"sindex_post_max\", \"sindex_post_max_percentpredict\", \"fit_post_max\")"
   ]
  },
  {
   "cell_type": "markdown",
   "id": "958b763f",
   "metadata": {},
   "source": [
    "## With PCA Variables"
   ]
  },
  {
   "cell_type": "code",
   "execution_count": 97,
   "id": "70131c1a",
   "metadata": {},
   "outputs": [
    {
     "name": "stdout",
     "output_type": "stream",
     "text": [
      "Variables included:\n",
      "Base respiratory vars: 22 \n",
      "PCA vars found: 4 -> respiratory_pca1_full, respiratory_pca2_full, respiratory_pca1_strong, respiratory_pca2_strong \n",
      "Total vars: 26 \n"
     ]
    }
   ],
   "source": [
    "# Base respiratory variables\n",
    "base_vars <- c(\"mip_pre_max\", \"mip_pre_max_percentpredict_1\", \"mip_pre_max_percentpredict_2\", \n",
    "               \"mip_post_max_percentpredict_1\", \"mip_post_max_percentpredict_2\", \"smip_pre_max\", \n",
    "               \"slopesmip_pre_max\", \"id_pre_max\", \"pif_pre_max\", \"volume_pre_max\", \"sindex_pre_max\", \n",
    "               \"sindex_pre_max_percentpredict\", \"fit_pre_max\", \"mip_post_max\", \"smip_post_max\", \n",
    "               \"slopesmip_post_max\", \"id_post_max\", \"pif_post_max\", \"volume_post_max\", \n",
    "               \"sindex_post_max\", \"sindex_post_max_percentpredict\", \"fit_post_max\")\n",
    "\n",
    "# PCA variables to potentially add\n",
    "pca_vars <- c(\"respiratory_pca1_full\", \"respiratory_pca2_full\", \n",
    "              \"respiratory_pca1_strong\", \"respiratory_pca2_strong\")\n",
    "\n",
    "# Check which PCA variables exist in the dataframe\n",
    "existing_pca_vars <- pca_vars[pca_vars %in% names(df_cs)]\n",
    "\n",
    "# Combine base and existing PCA variables\n",
    "vars <- c(base_vars, existing_pca_vars)\n",
    "\n",
    "# Print what was included\n",
    "cat(\"Variables included:\\n\")\n",
    "cat(\"Base respiratory vars:\", length(base_vars), \"\\n\")\n",
    "cat(\"PCA vars found:\", length(existing_pca_vars), \"->\", paste(existing_pca_vars, collapse = \", \"), \"\\n\")\n",
    "cat(\"Total vars:\", length(vars), \"\\n\")"
   ]
  },
  {
   "cell_type": "markdown",
   "id": "022b75b7",
   "metadata": {},
   "source": [
    "## With LASSO Composite"
   ]
  },
  {
   "cell_type": "code",
   "execution_count": 147,
   "id": "3728b109",
   "metadata": {},
   "outputs": [
    {
     "name": "stdout",
     "output_type": "stream",
     "text": [
      "Variables included:\n",
      "Base respiratory vars: 22 \n",
      "LASSO vars found: 1 -> respiratory_lasso \n",
      "Total vars: 23 \n"
     ]
    }
   ],
   "source": [
    "# Base respiratory variables\n",
    "base_vars <- c(\"mip_pre_max\", \"mip_pre_max_percentpredict_1\", \"mip_pre_max_percentpredict_2\", \n",
    "               \"mip_post_max_percentpredict_1\", \"mip_post_max_percentpredict_2\", \"smip_pre_max\", \n",
    "               \"slopesmip_pre_max\", \"id_pre_max\", \"pif_pre_max\", \"volume_pre_max\", \"sindex_pre_max\", \n",
    "               \"sindex_pre_max_percentpredict\", \"fit_pre_max\", \"mip_post_max\", \"smip_post_max\", \n",
    "               \"slopesmip_post_max\", \"id_post_max\", \"pif_post_max\", \"volume_post_max\", \n",
    "               \"sindex_post_max\", \"sindex_post_max_percentpredict\", \"fit_post_max\")\n",
    "\n",
    "# LASSO variables to potentially add\n",
    "lasso_vars <- c(\"respiratory_lasso\")\n",
    "\n",
    "# Check which LASSO variables exist in the dataframe\n",
    "existing_lasso_vars <- lasso_vars[lasso_vars %in% names(df_cs)]\n",
    "\n",
    "# Combine base and existing LASSO variables\n",
    "vars <- c(base_vars, existing_lasso_vars)\n",
    "\n",
    "# Print what was included\n",
    "cat(\"Variables included:\\n\")\n",
    "cat(\"Base respiratory vars:\", length(base_vars), \"\\n\")\n",
    "cat(\"LASSO vars found:\", length(existing_lasso_vars), \"->\", paste(existing_lasso_vars, collapse = \", \"), \"\\n\")\n",
    "cat(\"Total vars:\", length(vars), \"\\n\")"
   ]
  },
  {
   "cell_type": "markdown",
   "id": "e612cf78",
   "metadata": {},
   "source": [
    "# PCA"
   ]
  },
  {
   "cell_type": "markdown",
   "id": "1525024b",
   "metadata": {},
   "source": [
    "## KMO Check"
   ]
  },
  {
   "cell_type": "code",
   "execution_count": 94,
   "id": "0359e1a2",
   "metadata": {},
   "outputs": [
    {
     "data": {
      "text/plain": [
       "Kaiser-Meyer-Olkin factor adequacy\n",
       "Call: KMO(r = cor_matrix)\n",
       "Overall MSA =  0.62\n",
       "MSA for each item = \n",
       "                   mip_pre_max   mip_pre_max_percentpredict_1 \n",
       "                          0.57                           0.51 \n",
       "  mip_pre_max_percentpredict_2  mip_post_max_percentpredict_1 \n",
       "                          0.48                           0.48 \n",
       " mip_post_max_percentpredict_2                   smip_pre_max \n",
       "                          0.45                           0.82 \n",
       "             slopesmip_pre_max                     id_pre_max \n",
       "                          0.24                           0.46 \n",
       "                   pif_pre_max                 volume_pre_max \n",
       "                          0.85                           0.56 \n",
       "                sindex_pre_max  sindex_pre_max_percentpredict \n",
       "                          0.80                           0.71 \n",
       "                   fit_pre_max                   mip_post_max \n",
       "                          0.66                           0.55 \n",
       "                 smip_post_max             slopesmip_post_max \n",
       "                          0.68                           0.33 \n",
       "                   id_post_max                   pif_post_max \n",
       "                          0.44                           0.76 \n",
       "               volume_post_max                sindex_post_max \n",
       "                          0.75                           0.91 \n",
       "sindex_post_max_percentpredict                   fit_post_max \n",
       "                          0.78                           0.66 "
      ]
     },
     "execution_count": null,
     "metadata": {},
     "output_type": "execute_result"
    }
   ],
   "source": [
    "# Check correlations - you need a reasonably correlated matrix for PCA to be useful\n",
    "cor_matrix <- cor(df_cs[vars], use = \"complete.obs\")\n",
    "\n",
    "# Calculate the Kaiser-Meyer-Olkin (KMO) Measure of Sampling Adequacy\n",
    "KMO(cor_matrix)"
   ]
  },
  {
   "cell_type": "markdown",
   "id": "057c0921",
   "metadata": {},
   "source": [
    "## PCA 8-24"
   ]
  },
  {
   "cell_type": "code",
   "execution_count": 101,
   "id": "b42d102e",
   "metadata": {},
   "outputs": [
    {
     "name": "stdout",
     "output_type": "stream",
     "text": [
      "Original sample size: 30 \n",
      "Complete cases: 25 \n"
     ]
    },
    {
     "data": {
      "image/png": "[encoded data removed]"
     },
     "metadata": {},
     "output_type": "display_data"
    },
    {
     "data": {
      "image/png": "[encoded data removed]"
     },
     "metadata": {},
     "output_type": "display_data"
    },
    {
     "name": "stdout",
     "output_type": "stream",
     "text": [
      "[1] \"PC1 Loadings:\"\n",
      "[1] \"PC2 Loadings:\"\n",
      "[1] \"Variance explained by each PC:\"\n",
      "[1] 58.76 17.84  9.81  3.78  3.31\n"
     ]
    }
   ],
   "source": [
    "# Method 1: Use complete cases only\n",
    "df_pca <- df_cs[vars]\n",
    "df_pca_clean <- df_pca[complete.cases(df_pca), ]\n",
    "\n",
    "cat(\"Original sample size:\", nrow(df_pca), \"\\n\")\n",
    "cat(\"Complete cases:\", nrow(df_pca_clean), \"\\n\")\n",
    "\n",
    "# Check if we have enough data left\n",
    "if(nrow(df_pca_clean) < 10) {\n",
    "  stop(\"Not enough complete cases for PCA\")\n",
    "}\n",
    "\n",
    "# Run PCA on clean data\n",
    "pca_result <- prcomp(df_pca_clean, center = TRUE, scale. = TRUE)\n",
    "\n",
    "# Summary to see variance explained\n",
    "summary(pca_result)\n",
    "\n",
    "# Scree plot\n",
    "screeplot(pca_result, type = \"lines\", main = \"Scree Plot\")\n",
    "abline(h = 1, col = \"red\", lty = 2)\n",
    "\n",
    "# Biplot\n",
    "biplot(pca_result, main = \"PCA Biplot\")\n",
    "\n",
    "# Component loadings\n",
    "print(\"PC1 Loadings:\")\n",
    "sort(pca_result$rotation[,1], decreasing = TRUE)\n",
    "\n",
    "print(\"PC2 Loadings:\")\n",
    "sort(pca_result$rotation[,2], decreasing = TRUE)\n",
    "\n",
    "# Variance explained\n",
    "variance_explained <- (pca_result$sdev^2 / sum(pca_result$sdev^2)) * 100\n",
    "print(\"Variance explained by each PC:\")\n",
    "print(round(variance_explained[1:5], 2))"
   ]
  },
  {
   "cell_type": "code",
   "execution_count": 102,
   "id": "2890a37b",
   "metadata": {},
   "outputs": [
    {
     "name": "stdout",
     "output_type": "stream",
     "text": [
      "=== PC1 Loadings (Sorted) ===\n",
      "                                                     Variable         PC1\n",
      "pif_post_max                                     pif_post_max  0.26056106\n",
      "sindex_post_max                               sindex_post_max  0.25949151\n",
      "smip_pre_max                                     smip_pre_max  0.25584784\n",
      "mip_pre_max                                       mip_pre_max  0.25235610\n",
      "pif_pre_max                                       pif_pre_max  0.25213892\n",
      "sindex_pre_max                                 sindex_pre_max  0.24816364\n",
      "sindex_pre_max_percentpredict   sindex_pre_max_percentpredict  0.24560409\n",
      "sindex_post_max_percentpredict sindex_post_max_percentpredict  0.23277880\n",
      "mip_post_max                                     mip_post_max  0.23275130\n",
      "smip_post_max                                   smip_post_max  0.22350119\n",
      "fit_pre_max                                       fit_pre_max  0.21978410\n",
      "mip_pre_max_percentpredict_1     mip_pre_max_percentpredict_1  0.21927930\n",
      "mip_pre_max_percentpredict_2     mip_pre_max_percentpredict_2  0.21250921\n",
      "volume_post_max                               volume_post_max  0.21204348\n",
      "mip_post_max_percentpredict_1   mip_post_max_percentpredict_1  0.19513493\n",
      "fit_post_max                                     fit_post_max  0.19246855\n",
      "id_pre_max                                         id_pre_max  0.19178730\n",
      "mip_post_max_percentpredict_2   mip_post_max_percentpredict_2  0.18875282\n",
      "volume_pre_max                                 volume_pre_max  0.18452154\n",
      "id_post_max                                       id_post_max  0.13513443\n",
      "slopesmip_pre_max                           slopesmip_pre_max -0.07254753\n",
      "slopesmip_post_max                         slopesmip_post_max  0.01491158\n",
      "\n",
      "=== PC2 Loadings (Sorted) ===\n",
      "                                                     Variable         PC2\n",
      "id_post_max                                       id_post_max -0.30777262\n",
      "slopesmip_post_max                         slopesmip_post_max  0.29094853\n",
      "mip_post_max_percentpredict_1   mip_post_max_percentpredict_1  0.27939852\n",
      "mip_post_max_percentpredict_2   mip_post_max_percentpredict_2  0.27911984\n",
      "slopesmip_pre_max                           slopesmip_pre_max  0.27590707\n",
      "mip_pre_max_percentpredict_2     mip_pre_max_percentpredict_2  0.27474107\n",
      "fit_post_max                                     fit_post_max -0.27268774\n",
      "mip_pre_max_percentpredict_1     mip_pre_max_percentpredict_1  0.26793515\n",
      "id_pre_max                                         id_pre_max -0.25287896\n",
      "volume_pre_max                                 volume_pre_max -0.24300697\n",
      "fit_pre_max                                       fit_pre_max -0.23087585\n",
      "sindex_post_max_percentpredict sindex_post_max_percentpredict  0.20575086\n",
      "volume_post_max                               volume_post_max -0.19749242\n",
      "smip_post_max                                   smip_post_max -0.16949761\n",
      "mip_post_max                                     mip_post_max  0.15474957\n",
      "smip_pre_max                                     smip_pre_max -0.14503764\n",
      "mip_pre_max                                       mip_pre_max  0.12670532\n",
      "sindex_pre_max_percentpredict   sindex_pre_max_percentpredict  0.11960963\n",
      "sindex_pre_max                                 sindex_pre_max -0.03825768\n",
      "sindex_post_max                               sindex_post_max  0.03813609\n",
      "pif_post_max                                     pif_post_max  0.03445209\n",
      "pif_pre_max                                       pif_pre_max -0.03285415\n"
     ]
    },
    {
     "data": {
      "image/png": "[encoded data removed]"
     },
     "metadata": {},
     "output_type": "display_data"
    }
   ],
   "source": [
    "# Create a dataframe of the loadings for the first two components\n",
    "loadings_df <- as.data.frame(pca_result$rotation[, 1:2])\n",
    "loadings_df$Variable <- rownames(loadings_df)\n",
    "\n",
    "# Sort the loadings for PC1 to see which variables contribute most\n",
    "cat(\"=== PC1 Loadings (Sorted) ===\\n\")\n",
    "pc1_sorted <- loadings_df[order(-abs(loadings_df$PC1)), c(\"Variable\", \"PC1\")]\n",
    "print(pc1_sorted)\n",
    "\n",
    "# Sort the loadings for PC2 to see which variables contribute most\n",
    "cat(\"\\n=== PC2 Loadings (Sorted) ===\\n\")\n",
    "pc2_sorted <- loadings_df[order(-abs(loadings_df$PC2)), c(\"Variable\", \"PC2\")]\n",
    "print(pc2_sorted)\n",
    "\n",
    "# You can also make a plot to visualize this\n",
    "library(ggplot2)\n",
    "ggplot(loadings_df, aes(x = PC1, y = PC2, label = Variable)) +\n",
    "  geom_point() +\n",
    "  geom_text(size = 3, hjust = 0.5, vjust = 1.5, check_overlap = TRUE) +\n",
    "  geom_hline(yintercept = 0, linetype = \"dashed\", color = \"red\") +\n",
    "  geom_vline(xintercept = 0, linetype = \"dashed\", color = \"red\") +\n",
    "  xlim(-1, 1) + ylim(-1, 1) +\n",
    "  labs(title = \"PCA Loadings Plot\",\n",
    "       x = paste0(\"PC1 (\", round(variance_explained[1], 1), \"%)\"),\n",
    "       y = paste0(\"PC2 (\", round(variance_explained[2], 1), \"%)\")) +\n",
    "  theme_minimal()"
   ]
  },
  {
   "cell_type": "markdown",
   "id": "e2ee985e",
   "metadata": {},
   "source": [
    "## PCA 8-25"
   ]
  },
  {
   "cell_type": "code",
   "execution_count": 96,
   "id": "a483f6a0",
   "metadata": {},
   "outputs": [
    {
     "name": "stdout",
     "output_type": "stream",
     "text": [
      " [1] \"mip_pre_max\"                   \"mip_pre_max_percentpredict_1\" \n",
      " [3] \"mip_pre_max_percentpredict_2\"  \"mip_post_max_percentpredict_1\"\n",
      " [5] \"mip_post_max_percentpredict_2\" \"smip_pre_max\"                 \n",
      " [7] \"slopesmip_pre_max\"             \"id_pre_max\"                   \n",
      " [9] \"pif_pre_max\"                   \"slopesmip_post_max\"           \n",
      "[11] \"id_post_max\"                   \"pif_post_max\"                 \n",
      "[13] \"sindex_post_max\"               \"fit_post_max\"                 \n",
      "Strongly loading variables used: mip_pre_max mip_pre_max_percentpredict_1 mip_pre_max_percentpredict_2 mip_post_max_percentpredict_1 mip_post_max_percentpredict_2 smip_pre_max slopesmip_pre_max id_pre_max pif_pre_max slopesmip_post_max id_post_max pif_post_max sindex_post_max fit_post_max \n"
     ]
    }
   ],
   "source": [
    "# --- 1. Define your variables ---\n",
    "df_pca <- df_cs[vars]\n",
    "\n",
    "# --- 2. Full PCA (all variables) ---\n",
    "df_pca_clean <- df_pca[complete.cases(df_pca), ]\n",
    "pca_full <- prcomp(df_pca_clean, center = TRUE, scale. = TRUE)\n",
    "\n",
    "# Scores for full PCA (align with row order)\n",
    "scores_full <- predict(pca_full, newdata = scale(df_pca, center=TRUE, scale=TRUE))\n",
    "df_cs$respiratory_pca1_full <- scores_full[,1]\n",
    "df_cs$respiratory_pca2_full <- scores_full[,2]\n",
    "\n",
    "# --- 3. Identify strong loadings (|≥0.25| for PC1 or PC2) ---\n",
    "loadings <- pca_full$rotation[,1:2]\n",
    "strong_vars <- rownames(loadings)[apply(abs(loadings) >= 0.25, 1, any)]\n",
    "print(strong_vars)\n",
    "\n",
    "# --- 4. PCA on strong subset only ---\n",
    "df_pca_strong <- df_cs[strong_vars]\n",
    "df_pca_strong_clean <- df_pca_strong[complete.cases(df_pca_strong), ]\n",
    "pca_strong <- prcomp(df_pca_strong_clean, center = TRUE, scale. = TRUE)\n",
    "\n",
    "scores_strong <- predict(pca_strong, newdata = scale(df_pca_strong, center=TRUE, scale=TRUE))\n",
    "df_cs$respiratory_pca1_strong <- scores_strong[,1]\n",
    "df_cs$respiratory_pca2_strong <- scores_strong[,2]\n",
    "\n",
    "# --- 5. Inspect result ---\n",
    "cat(\"Strongly loading variables used:\", strong_vars, \"\\n\")\n",
    "summary(pca_full)\n",
    "summary(pca_strong)\n"
   ]
  },
  {
   "cell_type": "markdown",
   "id": "b5d68968",
   "metadata": {},
   "source": [
    "# Discriminatory Validity"
   ]
  },
  {
   "cell_type": "markdown",
   "id": "6fc20ebd",
   "metadata": {},
   "source": [
    "## PCS vs Healthy Controls"
   ]
  },
  {
   "cell_type": "markdown",
   "id": "18244243",
   "metadata": {},
   "source": [
    "### ROC AUC + Youden J + Sensitivity/Specificity"
   ]
  },
  {
   "cell_type": "code",
   "execution_count": 148,
   "id": "1970ba45",
   "metadata": {},
   "outputs": [
    {
     "name": "stderr",
     "output_type": "stream",
     "text": [
      "Warning messages:\n",
      "1: Missing values detected. NAs dropped. \n",
      "2: Missing values detected. NAs dropped. \n",
      "3: Missing values detected. NAs dropped. \n",
      "4: Missing values detected. NAs dropped. \n"
     ]
    },
    {
     "name": "stdout",
     "output_type": "stream",
     "text": [
      "[1] \"Saved to cs_roc_results.csv\"\n"
     ]
    }
   ],
   "source": [
    "# ---- packages ---- \n",
    "library(dplyr)\n",
    "library(pROC)\n",
    "library(binom)     # for exact binomial CIs on sens/spec\n",
    "library(effectsize)\n",
    "\n",
    "# ---- loop ---- \n",
    "roc_tbl <- list() \n",
    "\n",
    "for (v in vars) {\n",
    "  r <- roc(df_cs$covid_group, df_cs[[v]], quiet = TRUE, direction = \">\")\n",
    "  auc_ci <- ci.auc(r)\n",
    "  \n",
    "  # Youden cutpoint\n",
    "  best <- coords(r, \"best\", best.method = \"youden\",\n",
    "                 ret = c(\"threshold\",\"sensitivity\",\"specificity\",\"tp\",\"tn\",\"fp\",\"fn\"))\n",
    "  \n",
    "\n",
    "  # Extract values more safely\n",
    "  tp_val <- as.numeric(best$tp[1])  # Use $ notation and take first element\n",
    "  fn_val <- as.numeric(best$fn[1])\n",
    "  tn_val <- as.numeric(best$tn[1]) \n",
    "  fp_val <- as.numeric(best$fp[1])\n",
    "  \n",
    "  # Check for NA values\n",
    "  if(any(is.na(c(tp_val, fn_val, tn_val, fp_val)))) {\n",
    "    print(\"Warning: NA values detected\")\n",
    "    next\n",
    "  }\n",
    "  \n",
    "  # sens/spec CIs\n",
    "  sens_ci <- binom.exact(tp_val, tp_val + fn_val)\n",
    "  spec_ci <- binom.exact(tn_val, tn_val + fp_val)\n",
    "  \n",
    "  # Cohen's d (LC vs HC)\n",
    "  d_val <- cohens_d(as.formula(paste(v, \"~ covid_group\")), data = df_cs)$Cohens_d\n",
    "   \n",
    "  roc_tbl[[v]] <- tibble(\n",
    "    Variable = v,\n",
    "    AUC = as.numeric(auc(r)),\n",
    "    AUC_low = as.numeric(auc_ci[1]),\n",
    "    AUC_high = as.numeric(auc_ci[3]),\n",
    "    Youden_J = as.numeric(best$sensitivity[1] + best$specificity[1] - 1),\n",
    "    Cutpoint = as.numeric(best$threshold[1]),\n",
    "    Sens = as.numeric(best$sensitivity[1]),\n",
    "    Sens_low = sens_ci$lower,\n",
    "    Sens_high = sens_ci$upper,\n",
    "    Spec = as.numeric(best$specificity[1]),\n",
    "    Spec_low = spec_ci$lower,\n",
    "    Spec_high = spec_ci$upper,\n",
    "    Cohens_d = d_val\n",
    "  )\n",
    "}\n",
    "\n",
    "roc_results <- bind_rows(roc_tbl) %>% arrange(desc(AUC))\n",
    "write.csv(roc_results, \"cs_roc_results.csv\", row.names = FALSE)\n",
    "print(\"Saved to cs_roc_results.csv\")"
   ]
  },
  {
   "cell_type": "markdown",
   "id": "b5d83d03",
   "metadata": {},
   "source": [
    "### Compare AUCs (DeLong)"
   ]
  },
  {
   "cell_type": "code",
   "execution_count": 151,
   "id": "1aaf45d0",
   "metadata": {},
   "outputs": [
    {
     "data": {
      "text/plain": [
       "\n",
       "\tDeLong's test for two correlated ROC curves\n",
       "\n",
       "data:  r_mip and r_sidx\n",
       "Z = 0.70711, p-value = 0.4795\n",
       "alternative hypothesis: true difference in AUC is not equal to 0\n",
       "95 percent confidence interval:\n",
       " -0.008859038  0.018859038\n",
       "sample estimates:\n",
       "AUC of roc1 AUC of roc2 \n",
       "      0.975       0.970 \n"
      ]
     },
     "execution_count": null,
     "metadata": {},
     "output_type": "execute_result"
    }
   ],
   "source": [
    "# Example: compare S-Index vs MIP\n",
    "r_mip <- roc(df_cs$covid_group, df_cs$mip_pre_max_percentpredict_2, quiet=TRUE)\n",
    "r_sidx <- roc(df_cs$covid_group, df_cs$respiratory_lasso, quiet=TRUE)\n",
    "roc.test(r_mip, r_sidx, method = \"delong\")"
   ]
  },
  {
   "cell_type": "markdown",
   "id": "ce024b74",
   "metadata": {},
   "source": [
    "### Lasso"
   ]
  },
  {
   "cell_type": "markdown",
   "id": "24802cf2",
   "metadata": {},
   "source": [
    "#### 8-25"
   ]
  },
  {
   "cell_type": "code",
   "execution_count": 136,
   "id": "cb749eca",
   "metadata": {},
   "outputs": [
    {
     "name": "stderr",
     "output_type": "stream",
     "text": [
      "Warning messages:\n",
      "1: In lognet(x, is.sparse, y, weights, offset, alpha, nobs, nvars,  :\n",
      "  one multinomial or binomial class has fewer than 8  observations; dangerous ground\n",
      "2: In lognet(x, is.sparse, y, weights, offset, alpha, nobs, nvars,  :\n",
      "  one multinomial or binomial class has fewer than 8  observations; dangerous ground\n"
     ]
    },
    {
     "name": "stdout",
     "output_type": "stream",
     "text": [
      "[1] \"(Intercept)\"                  \"mip_pre_max\"                 \n",
      "[3] \"mip_pre_max_percentpredict_2\"\n",
      "23 x 1 sparse Matrix of class \"dgCMatrix\"\n",
      "                                  lambda.min\n",
      "(Intercept)                     5.1984112120\n",
      "mip_pre_max                    -0.0079292231\n",
      "mip_pre_max_percentpredict_1    .           \n",
      "mip_pre_max_percentpredict_2   -0.0370004352\n",
      "mip_post_max_percentpredict_1   .           \n",
      "mip_post_max_percentpredict_2  -0.0118854448\n",
      "smip_pre_max                   -0.0008901074\n",
      "slopesmip_pre_max               .           \n",
      "id_pre_max                      .           \n",
      "pif_pre_max                     .           \n",
      "volume_pre_max                  .           \n",
      "sindex_pre_max                  .           \n",
      "sindex_pre_max_percentpredict  -0.0085558882\n",
      "fit_pre_max                     .           \n",
      "mip_post_max                    .           \n",
      "smip_post_max                   .           \n",
      "slopesmip_post_max              .           \n",
      "id_post_max                     .           \n",
      "pif_post_max                    .           \n",
      "volume_post_max                 .           \n",
      "sindex_post_max                 .           \n",
      "sindex_post_max_percentpredict  .           \n",
      "fit_post_max                    .           \n"
     ]
    }
   ],
   "source": [
    "library(glmnet)\n",
    "\n",
    "# predictors matrix (complete cases across chosen variables)\n",
    "dat_lasso <- df_cs %>% select(all_of(vars), covid_group) %>% na.omit()\n",
    "x <- as.matrix(dat_lasso %>% select(-covid_group))\n",
    "y <- dat_lasso$covid_group\n",
    "\n",
    "set.seed(123)\n",
    "cvfit <- cv.glmnet(x, y, family = \"binomial\", alpha = 1, nfolds = 5, standardize = TRUE)\n",
    "cvfit$lambda.min; cvfit$lambda.1se\n",
    "\n",
    "# non-zero coefficients at the more parsimonious lambda.1se\n",
    "coef_1se <- coef(cvfit, s = \"lambda.1se\")\n",
    "keep <- which(as.numeric(coef_1se) != 0)\n",
    "lasso_keep <- rownames(coef_1se)[keep]\n",
    "print(lasso_keep)\n",
    "\n",
    "# predicted probs and AUC\n",
    "pred <- as.numeric(predict(cvfit, newx = x, s = \"lambda.1se\", type = \"response\"))\n",
    "auc(cvfit_roc <- roc(y, pred, quiet=TRUE))\n",
    "ci.auc(cvfit_roc)\n",
    "\n",
    "# Check coefficients at lambda.min\n",
    "coef_min <- coef(cvfit, s = \"lambda.min\")\n",
    "print(coef_min)\n"
   ]
  },
  {
   "cell_type": "markdown",
   "id": "557ff1d0",
   "metadata": {},
   "source": [
    "#### 8-26"
   ]
  },
  {
   "cell_type": "code",
   "execution_count": 145,
   "id": "6c52ac39",
   "metadata": {},
   "outputs": [
    {
     "name": "stderr",
     "output_type": "stream",
     "text": [
      "Warning messages:\n",
      "1: In lognet(x, is.sparse, y, weights, offset, alpha, nobs, nvars,  :\n",
      "  one multinomial or binomial class has fewer than 8  observations; dangerous ground\n",
      "2: In lognet(x, is.sparse, y, weights, offset, alpha, nobs, nvars,  :\n",
      "  one multinomial or binomial class has fewer than 8  observations; dangerous ground\n"
     ]
    },
    {
     "name": "stdout",
     "output_type": "stream",
     "text": [
      "[1] \"(Intercept)\"                  \"mip_pre_max\"                 \n",
      "[3] \"mip_pre_max_percentpredict_2\"\n",
      "23 x 1 sparse Matrix of class \"dgCMatrix\"\n",
      "                                  lambda.min\n",
      "(Intercept)                     5.1984112120\n",
      "mip_pre_max                    -0.0079292231\n",
      "mip_pre_max_percentpredict_1    .           \n",
      "mip_pre_max_percentpredict_2   -0.0370004352\n",
      "mip_post_max_percentpredict_1   .           \n",
      "mip_post_max_percentpredict_2  -0.0118854448\n",
      "smip_pre_max                   -0.0008901074\n",
      "slopesmip_pre_max               .           \n",
      "id_pre_max                      .           \n",
      "pif_pre_max                     .           \n",
      "volume_pre_max                  .           \n",
      "sindex_pre_max                  .           \n",
      "sindex_pre_max_percentpredict  -0.0085558882\n",
      "fit_pre_max                     .           \n",
      "mip_post_max                    .           \n",
      "smip_post_max                   .           \n",
      "slopesmip_post_max              .           \n",
      "id_post_max                     .           \n",
      "pif_post_max                    .           \n",
      "volume_post_max                 .           \n",
      "sindex_post_max                 .           \n",
      "sindex_post_max_percentpredict  .           \n",
      "fit_post_max                    .           \n",
      "Manual vs glmnet scores correlation: -0.9998969 \n",
      "Max difference: 4.310015 \n",
      "\n",
      "LASSO Composite Score Summary:\n",
      "Non-zero coefficients: 2 \n",
      "Variables selected: mip_pre_max, mip_pre_max_percentpredict_2 \n"
     ]
    },
    {
     "data": {
      "text/plain": [
       "   Min. 1st Qu.  Median    Mean 3rd Qu.    Max. \n",
       " -2.345  -2.318  -2.308  -2.300  -2.281  -2.251 "
      ]
     },
     "execution_count": null,
     "metadata": {},
     "output_type": "execute_result"
    }
   ],
   "source": [
    "library(glmnet)\n",
    "library(dplyr)\n",
    "\n",
    "# predictors matrix (complete cases across chosen variables)\n",
    "dat_lasso <- df_cs %>% select(all_of(vars), covid_group) %>% na.omit()\n",
    "x <- as.matrix(dat_lasso %>% select(-covid_group))\n",
    "y <- dat_lasso$covid_group\n",
    "\n",
    "set.seed(123)\n",
    "cvfit <- cv.glmnet(x, y, family = \"binomial\", alpha = 1, nfolds = 5, standardize = TRUE)\n",
    "cvfit$lambda.min; cvfit$lambda.1se\n",
    "\n",
    "# non-zero coefficients at the more parsimonious lambda.1se\n",
    "coef_1se <- coef(cvfit, s = \"lambda.1se\")\n",
    "keep <- which(as.numeric(coef_1se) != 0)\n",
    "lasso_keep <- rownames(coef_1se)[keep]\n",
    "print(lasso_keep)\n",
    "\n",
    "# predicted probs and AUC\n",
    "pred <- as.numeric(predict(cvfit, newx = x, s = \"lambda.1se\", type = \"response\"))\n",
    "auc(cvfit_roc <- roc(y, pred, quiet=TRUE))\n",
    "ci.auc(cvfit_roc)\n",
    "\n",
    "# Check coefficients at lambda.min\n",
    "coef_min <- coef(cvfit, s = \"lambda.min\")\n",
    "print(coef_min)\n",
    "\n",
    "# --- CREATE COMPOSITE SCORE ---\n",
    "# Option 1: Use lambda.1se (more parsimonious)\n",
    "lasso_coefs <- coef(cvfit, s = \"lambda.1se\")\n",
    "\n",
    "# Initialize the column with NA\n",
    "df_cs$respiratory_lasso <- NA\n",
    "\n",
    "# For all rows in df_cs, calculate the linear combination\n",
    "# First, create a matrix for ALL rows in df_cs (with standardization)\n",
    "x_all <- as.matrix(df_cs[vars])\n",
    "\n",
    "# Handle missing values by setting them to the mean (what glmnet does during standardization)\n",
    "for(i in 1:ncol(x_all)) {\n",
    "  col_mean <- mean(x_all[,i], na.rm = TRUE)\n",
    "  col_sd <- sd(x_all[,i], na.rm = TRUE)\n",
    "  x_all[is.na(x_all[,i]), i] <- col_mean\n",
    "  # Standardize (same as glmnet does internally)\n",
    "  x_all[,i] <- (x_all[,i] - col_mean) / col_sd\n",
    "}\n",
    "\n",
    "# Calculate linear combination (exclude intercept from matrix multiplication)\n",
    "intercept <- as.numeric(lasso_coefs[1])\n",
    "beta_coefs <- as.numeric(lasso_coefs[-1])  # Remove intercept\n",
    "\n",
    "# Calculate the composite score (linear combination)\n",
    "df_cs$respiratory_lasso <- intercept + as.numeric(x_all %*% beta_coefs)\n",
    "# After creating the original respiratory_lasso score, flip it\n",
    "df_cs$respiratory_lasso <- -df_cs$respiratory_lasso\n",
    "\n",
    "# --- VERIFICATION ---\n",
    "# Check that our manual calculation matches glmnet for complete cases\n",
    "manual_scores_complete <- df_cs$respiratory_lasso[complete.cases(df_cs[vars])]\n",
    "glmnet_scores <- as.numeric(predict(cvfit, newx = x, s = \"lambda.1se\", type = \"link\"))\n",
    "\n",
    "cat(\"Manual vs glmnet scores correlation:\", cor(manual_scores_complete, glmnet_scores), \"\\n\")\n",
    "cat(\"Max difference:\", max(abs(manual_scores_complete - glmnet_scores)), \"\\n\")\n",
    "\n",
    "# --- SUMMARY ---\n",
    "cat(\"\\nLASSO Composite Score Summary:\\n\")\n",
    "cat(\"Non-zero coefficients:\", length(lasso_keep)-1, \"\\n\")  # -1 for intercept\n",
    "cat(\"Variables selected:\", paste(lasso_keep[-1], collapse = \", \"), \"\\n\")\n",
    "summary(df_cs$respiratory_lasso)"
   ]
  },
  {
   "cell_type": "markdown",
   "id": "5ff10cc7",
   "metadata": {},
   "source": [
    "### Prediction Model"
   ]
  },
  {
   "cell_type": "markdown",
   "id": "5c55f239",
   "metadata": {},
   "source": [
    "#### Complex"
   ]
  },
  {
   "cell_type": "code",
   "execution_count": 134,
   "id": "85e97ce5",
   "metadata": {},
   "outputs": [
    {
     "data": {
      "text/plain": [
       "\n",
       "Call:\n",
       "glm(formula = covid_group ~ mip_pre_max + mip_pre_max_percentpredict_2 + \n",
       "    mip_post_max_percentpredict_2 + smip_pre_max + slopesmip_pre_max + \n",
       "    sindex_pre_max_percentpredict, family = \"binomial\", data = df_cs)\n",
       "\n",
       "Coefficients:\n",
       "                               Estimate Std. Error z value Pr(>|z|)  \n",
       "(Intercept)                   10.269949   5.825753   1.763   0.0779 .\n",
       "mip_pre_max                    0.017073   0.169885   0.100   0.9199  \n",
       "mip_pre_max_percentpredict_2  -0.104504   0.215697  -0.484   0.6280  \n",
       "mip_post_max_percentpredict_2 -0.023671   0.122760  -0.193   0.8471  \n",
       "smip_pre_max                  -0.001571   0.009952  -0.158   0.8745  \n",
       "slopesmip_pre_max              0.092606   0.204507   0.453   0.6507  \n",
       "sindex_pre_max_percentpredict -0.049935   0.106930  -0.467   0.6405  \n",
       "---\n",
       "Signif. codes:  0 ‘***’ 0.001 ‘**’ 0.01 ‘*’ 0.05 ‘.’ 0.1 ‘ ’ 1\n",
       "\n",
       "(Dispersion parameter for binomial family taken to be 1)\n",
       "\n",
       "    Null deviance: 33.6506  on 24  degrees of freedom\n",
       "Residual deviance:  6.6025  on 18  degrees of freedom\n",
       "  (5 observations deleted due to missingness)\n",
       "AIC: 20.602\n",
       "\n",
       "Number of Fisher Scoring iterations: 8\n"
      ]
     },
     "execution_count": null,
     "metadata": {},
     "output_type": "execute_result"
    }
   ],
   "source": [
    "final_model <- glm(covid_group ~ mip_pre_max + mip_pre_max_percentpredict_2 +\n",
    "                   mip_post_max_percentpredict_2 + smip_pre_max +\n",
    "                   slopesmip_pre_max + sindex_pre_max_percentpredict,\n",
    "                   data = df_cs, family = \"binomial\")\n",
    "summary(final_model)"
   ]
  },
  {
   "cell_type": "markdown",
   "id": "4e0aefa2",
   "metadata": {},
   "source": [
    "## Dyspnea vs No Dyspnea"
   ]
  },
  {
   "cell_type": "markdown",
   "id": "e018b63b",
   "metadata": {},
   "source": [
    "### ROC AUC + Youden"
   ]
  },
  {
   "cell_type": "code",
   "execution_count": 57,
   "id": "5f94e2c9",
   "metadata": {},
   "outputs": [
    {
     "name": "stderr",
     "output_type": "stream",
     "text": [
      "Warning messages:\n",
      "1: Missing values detected. NAs dropped. \n",
      "2: Missing values detected. NAs dropped. \n",
      "3: Missing values detected. NAs dropped. \n",
      "4: Missing values detected. NAs dropped. \n"
     ]
    },
    {
     "name": "stdout",
     "output_type": "stream",
     "text": [
      "# A tibble: 20 × 13\n",
      "   Variable                        AUC AUC_low AUC_high Youden_J Cutpoint\n",
      "   <chr>                         <dbl>   <dbl>    <dbl>    <dbl>    <dbl>\n",
      " 1 mip_post_max                  0.891   0.779    1        0.688    75   \n",
      " 2 sindex_post_max               0.877   0.756    0.999    0.688    67.5 \n",
      " 3 pif_post_max                  0.868   0.742    0.994    0.688     3.95\n",
      " 4 mip_post_max_percentpredict_1 0.866   0.740    0.992    0.580    48.8 \n",
      " 5 mip_post_max_percentpredict_2 0.857   0.726    0.988    0.616    65.5 \n",
      " 6 smip_pre_max                  0.848   0.694    1        0.688   419   \n",
      " 7 id_pre_max                    0.847   0.680    1        0.667     5.26\n",
      " 8 fit_pre_max                   0.817   0.649    0.985    0.679    13   \n",
      " 9 pif_pre_max                   0.808   0.650    0.966    0.625     3.65\n",
      "10 sindex_pre_max                0.806   0.646    0.965    0.625    63.5 \n",
      "11 smip_post_max                 0.804   0.638    0.970    0.616   302   \n",
      "12 mip_pre_max                   0.786   0.616    0.955    0.562    76.5 \n",
      "13 mip_pre_max_percentpredict_2  0.768   0.595    0.941    0.562    72.0 \n",
      "14 mip_pre_max_percentpredict_1  0.759   0.581    0.937    0.491    86.6 \n",
      "15 fit_post_max                  0.737   0.548    0.926    0.491    12.6 \n",
      "16 id_post_max                   0.7     0.485    0.915    0.467     7.58\n",
      "17 volume_pre_max                0.658   0.455    0.862    0.420     2.75\n",
      "18 volume_post_max               0.643   0.440    0.845    0.25      2.35\n",
      "19 slopesmip_post_max            0.567   0.334    0.799    0.233    14.0 \n",
      "20 slopesmip_pre_max             0.46    0.223    0.697    0.100     8.18\n",
      "    Sens Sens_low Sens_high  Spec Spec_low Spec_high Cohens_d\n",
      "   <dbl>    <dbl>     <dbl> <dbl>    <dbl>     <dbl>    <dbl>\n",
      " 1 1        0.768     1     0.688    0.413     0.890   1.73  \n",
      " 2 1        0.768     1     0.688    0.413     0.890   1.42  \n",
      " 3 1        0.768     1     0.688    0.413     0.890   1.44  \n",
      " 4 0.643    0.351     0.872 0.938    0.698     0.998   1.44  \n",
      " 5 0.929    0.661     0.998 0.688    0.413     0.890   1.46  \n",
      " 6 1        0.768     1     0.688    0.413     0.890   1.40  \n",
      " 7 0.8      0.444     0.975 0.867    0.595     0.983   1.36  \n",
      " 8 0.929    0.661     0.998 0.75     0.476     0.927   1.28  \n",
      " 9 1        0.768     1     0.625    0.354     0.848   1.11  \n",
      "10 1        0.768     1     0.625    0.354     0.848   1.06  \n",
      "11 0.929    0.661     0.998 0.688    0.413     0.890   1.13  \n",
      "12 1        0.768     1     0.562    0.299     0.802   1.28  \n",
      "13 1        0.768     1     0.562    0.299     0.802   1.14  \n",
      "14 0.929    0.661     0.998 0.562    0.299     0.802   1.11  \n",
      "15 0.929    0.661     0.998 0.562    0.299     0.802   0.852 \n",
      "16 0.8      0.444     0.975 0.667    0.384     0.882   0.810 \n",
      "17 0.857    0.572     0.982 0.562    0.299     0.802   0.612 \n",
      "18 0.5      0.230     0.770 0.75     0.476     0.927   0.543 \n",
      "19 0.7      0.348     0.933 0.533    0.266     0.787   0.492 \n",
      "20 0.5      0.187     0.813 0.6      0.323     0.837   0.0512\n"
     ]
    }
   ],
   "source": [
    "# ---- packages ---- \n",
    "library(dplyr)\n",
    "library(pROC)\n",
    "library(binom)     # for exact binomial CIs on sens/spec\n",
    "library(effectsize)\n",
    "\n",
    "# ---- loop ---- \n",
    "roc_tbl <- list() \n",
    "\n",
    "for (v in vars) {\n",
    "  r <- roc(df_cs$mmrc_dichotomous, df_cs[[v]], quiet = TRUE, direction = \">\")\n",
    "  auc_ci <- ci.auc(r)\n",
    "  \n",
    "  # Youden cutpoint\n",
    "  best <- coords(r, \"best\", best.method = \"youden\",\n",
    "                 ret = c(\"threshold\",\"sensitivity\",\"specificity\",\"tp\",\"tn\",\"fp\",\"fn\"))\n",
    "  \n",
    "  # Extract values more safely\n",
    "  tp_val <- as.numeric(best$tp[1])  # Use $ notation and take first element\n",
    "  fn_val <- as.numeric(best$fn[1])\n",
    "  tn_val <- as.numeric(best$tn[1]) \n",
    "  fp_val <- as.numeric(best$fp[1])\n",
    "  \n",
    "  # Check for NA values\n",
    "  if(any(is.na(c(tp_val, fn_val, tn_val, fp_val)))) {\n",
    "    print(\"Warning: NA values detected\")\n",
    "    next\n",
    "  }\n",
    "  \n",
    "  # sens/spec CIs\n",
    "  sens_ci <- binom.exact(tp_val, tp_val + fn_val)\n",
    "  spec_ci <- binom.exact(tn_val, tn_val + fp_val)\n",
    "  \n",
    "  # Cohen's d (Dyspnea vs No Dyspnea)\n",
    "  d_val <- cohens_d(as.formula(paste(v, \"~ mmrc_dichotomous\")), data = df_cs)$Cohens_d\n",
    "   \n",
    "  roc_tbl[[v]] <- tibble(\n",
    "    Variable = v,\n",
    "    AUC = as.numeric(auc(r)),\n",
    "    AUC_low = as.numeric(auc_ci[1]),\n",
    "    AUC_high = as.numeric(auc_ci[3]),\n",
    "    Youden_J = as.numeric(best$sensitivity[1] + best$specificity[1] - 1),\n",
    "    Cutpoint = as.numeric(best$threshold[1]),\n",
    "    Sens = as.numeric(best$sensitivity[1]),\n",
    "    Sens_low = sens_ci$lower,\n",
    "    Sens_high = sens_ci$upper,\n",
    "    Spec = as.numeric(best$specificity[1]),\n",
    "    Spec_low = spec_ci$lower,\n",
    "    Spec_high = spec_ci$upper,\n",
    "    Cohens_d = d_val\n",
    "  )\n",
    "}\n",
    "\n",
    "roc_results <- bind_rows(roc_tbl) %>% arrange(desc(AUC))\n",
    "print(roc_results, width=Inf)"
   ]
  },
  {
   "cell_type": "markdown",
   "id": "cf518bb0",
   "metadata": {},
   "source": [
    "### Compare AUCs (Delong)"
   ]
  },
  {
   "cell_type": "code",
   "execution_count": 58,
   "id": "c568cf0d",
   "metadata": {},
   "outputs": [
    {
     "name": "stdout",
     "output_type": "stream",
     "text": [
      "\n",
      "\tDeLong's test for two correlated ROC curves\n",
      "\n",
      "data:  r_mip and r_sidx\n",
      "Z = -0.25375, p-value = 0.7997\n",
      "alternative hypothesis: true difference in AUC is not equal to 0\n",
      "95 percent confidence interval:\n",
      " -0.1752564  0.1350779\n",
      "sample estimates:\n",
      "AUC of roc1 AUC of roc2 \n",
      "  0.7857143   0.8058036 \n",
      "\n"
     ]
    }
   ],
   "source": [
    "# Example: compare S-Index vs MIP\n",
    "r_mip <- roc(df_cs$mmrc_dichotomous, df_cs$mip_pre_max, quiet=TRUE)\n",
    "r_sidx <- roc(df_cs$mmrc_dichotomous, df_cs$sindex_pre_max, quiet=TRUE)\n",
    "print(roc.test(r_mip, r_sidx, method = \"delong\"))\n"
   ]
  },
  {
   "cell_type": "markdown",
   "id": "c2519a28",
   "metadata": {},
   "source": [
    "# Convergent Validity"
   ]
  },
  {
   "cell_type": "markdown",
   "id": "fa61a709",
   "metadata": {},
   "source": [
    "## BDI vs Index"
   ]
  },
  {
   "cell_type": "code",
   "execution_count": 74,
   "id": "05410f4c",
   "metadata": {},
   "outputs": [
    {
     "name": "stdout",
     "output_type": "stream",
     "text": [
      "                                                     Variable  N\n",
      "mip_post_max_percentpredict_2   mip_post_max_percentpredict_2 30\n",
      "mip_post_max_percentpredict_1   mip_post_max_percentpredict_1 30\n",
      "mip_pre_max_percentpredict_2     mip_pre_max_percentpredict_2 30\n",
      "mip_post_max                                     mip_post_max 30\n",
      "sindex_post_max_percentpredict sindex_post_max_percentpredict 30\n",
      "mip_pre_max_percentpredict_1     mip_pre_max_percentpredict_1 30\n",
      "sindex_pre_max_percentpredict   sindex_pre_max_percentpredict 30\n",
      "smip_pre_max                                     smip_pre_max 30\n",
      "mip_pre_max                                       mip_pre_max 30\n",
      "fit_pre_max                                       fit_pre_max 30\n",
      "smip_post_max                                   smip_post_max 30\n",
      "id_pre_max                                         id_pre_max 25\n",
      "pif_post_max                                     pif_post_max 30\n",
      "sindex_post_max                               sindex_post_max 30\n",
      "fit_post_max                                     fit_post_max 30\n",
      "pif_pre_max                                       pif_pre_max 30\n",
      "sindex_pre_max                                 sindex_pre_max 30\n",
      "slopesmip_post_max                         slopesmip_post_max 25\n",
      "id_post_max                                       id_post_max 25\n",
      "slopesmip_pre_max                           slopesmip_pre_max 25\n",
      "volume_pre_max                                 volume_pre_max 30\n",
      "volume_post_max                               volume_post_max 30\n",
      "                               Correlation_rho Correlation_p   Beta Std_Beta\n",
      "mip_post_max_percentpredict_2            0.529         0.003  0.049    0.506\n",
      "mip_post_max_percentpredict_1            0.498         0.005  0.040    0.499\n",
      "mip_pre_max_percentpredict_2             0.455         0.011  0.047    0.449\n",
      "mip_post_max                             0.428         0.018  0.042    0.460\n",
      "sindex_post_max_percentpredict           0.423         0.020  0.050    0.422\n",
      "mip_pre_max_percentpredict_1             0.413         0.023  0.038    0.446\n",
      "sindex_pre_max_percentpredict            0.386         0.035  0.048    0.424\n",
      "smip_pre_max                             0.371         0.044  0.005    0.536\n",
      "mip_pre_max                              0.336         0.070  0.039    0.422\n",
      "fit_pre_max                              0.320         0.085  0.075    0.438\n",
      "smip_post_max                            0.292         0.117  0.005    0.348\n",
      "id_pre_max                               0.286         0.166  0.192    0.357\n",
      "pif_post_max                             0.259         0.167  0.776    0.431\n",
      "sindex_post_max                          0.258         0.169  0.043    0.435\n",
      "fit_post_max                             0.237         0.208  0.073    0.275\n",
      "pif_pre_max                              0.233         0.214  0.639    0.402\n",
      "sindex_pre_max                           0.229         0.224  0.034    0.400\n",
      "slopesmip_post_max                       0.144         0.493  0.018    0.132\n",
      "id_post_max                              0.097         0.645  0.067    0.103\n",
      "slopesmip_pre_max                       -0.065         0.756 -0.036   -0.155\n",
      "volume_pre_max                           0.041         0.831  1.138    0.331\n",
      "volume_post_max                         -0.010         0.960  0.613    0.154\n",
      "                                  SE Beta_p         CI_95 R_squared\n",
      "mip_post_max_percentpredict_2  0.016  0.005  [0.02, 0.08]     0.340\n",
      "mip_post_max_percentpredict_1  0.013  0.005  [0.01, 0.07]     0.335\n",
      "mip_pre_max_percentpredict_2   0.017  0.012  [0.01, 0.08]     0.294\n",
      "mip_post_max                   0.015  0.011  [0.01, 0.07]     0.298\n",
      "sindex_post_max_percentpredict 0.020  0.018  [0.01, 0.09]     0.275\n",
      "mip_pre_max_percentpredict_1   0.014  0.013  [0.01, 0.07]     0.289\n",
      "sindex_pre_max_percentpredict  0.019  0.018  [0.01, 0.09]     0.274\n",
      "smip_pre_max                   0.002  0.006     [0, 0.01]     0.328\n",
      "mip_pre_max                    0.016  0.025  [0.01, 0.07]     0.259\n",
      "fit_pre_max                    0.032  0.027  [0.01, 0.14]     0.255\n",
      "smip_post_max                  0.002  0.070     [0, 0.01]     0.206\n",
      "id_pre_max                     0.110  0.095 [-0.04, 0.42]     0.208\n",
      "pif_post_max                   0.344  0.033  [0.07, 1.48]     0.245\n",
      "sindex_post_max                0.019  0.032     [0, 0.08]     0.246\n",
      "fit_post_max                   0.050  0.157 [-0.03, 0.17]     0.165\n",
      "pif_pre_max                    0.302  0.044  [0.02, 1.26]     0.230\n",
      "sindex_pre_max                 0.016  0.045     [0, 0.07]     0.228\n",
      "slopesmip_post_max             0.028  0.530 [-0.04, 0.08]     0.110\n",
      "id_post_max                    0.143  0.641 [-0.23, 0.36]     0.102\n",
      "slopesmip_pre_max              0.050  0.475 [-0.14, 0.07]     0.115\n",
      "volume_pre_max                 0.844  0.190  [-0.6, 2.87]     0.156\n",
      "volume_post_max                0.869  0.487  [-1.17, 2.4]     0.114\n",
      "                               Residuals_normal\n",
      "mip_post_max_percentpredict_2             FALSE\n",
      "mip_post_max_percentpredict_1             FALSE\n",
      "mip_pre_max_percentpredict_2              FALSE\n",
      "mip_post_max                              FALSE\n",
      "sindex_post_max_percentpredict            FALSE\n",
      "mip_pre_max_percentpredict_1              FALSE\n",
      "sindex_pre_max_percentpredict             FALSE\n",
      "smip_pre_max                              FALSE\n",
      "mip_pre_max                               FALSE\n",
      "fit_pre_max                               FALSE\n",
      "smip_post_max                              TRUE\n",
      "id_pre_max                                 TRUE\n",
      "pif_post_max                              FALSE\n",
      "sindex_post_max                           FALSE\n",
      "fit_post_max                               TRUE\n",
      "pif_pre_max                                TRUE\n",
      "sindex_pre_max                             TRUE\n",
      "slopesmip_post_max                         TRUE\n",
      "id_post_max                                TRUE\n",
      "slopesmip_pre_max                          TRUE\n",
      "volume_pre_max                             TRUE\n",
      "volume_post_max                            TRUE\n"
     ]
    }
   ],
   "source": [
    "# Initialize list to store results\n",
    "convergent_results <- list()\n",
    "\n",
    "# Loop through each respiratory variable\n",
    "for (v in vars) {\n",
    "  \n",
    "  # Create complete cases dataset for this analysis\n",
    "  temp_df <- df_cs[complete.cases(df_cs[, c(\"bdi_sum\", v, \"data_age\", \"subject_female\")]), ]\n",
    "  \n",
    "  # Skip if not enough data\n",
    "  if (nrow(temp_df) < 10) {\n",
    "    message(\"Skipping \", v, \": insufficient data (n = \", nrow(temp_df), \")\")\n",
    "    next\n",
    "  }\n",
    "  \n",
    "  # 1. CORRELATION ANALYSIS (Spearman - good for BDI Likert scale)\n",
    "  cor_test <- cor.test(temp_df[[v]], temp_df$bdi_sum, method = \"pearson\")\n",
    "  \n",
    "  # 2. LINEAR REGRESSION (controlling for age and sex)\n",
    "  formula <- as.formula(paste(\"bdi_sum ~\", v, \"+ data_age + subject_female\"))\n",
    "  lm_model <- lm(formula, data = temp_df)\n",
    "  lm_summary <- summary(lm_model)\n",
    "  \n",
    "  # 3. CHECK REGRESSION ASSUMPTIONS\n",
    "  # Normality of residuals\n",
    "  shapiro_test <- shapiro.test(residuals(lm_model))\n",
    "  \n",
    "  # 4. EXTRACT KEY RESULTS\n",
    "  convergent_results[[v]] <- list(\n",
    "    variable = v,\n",
    "    n = nrow(temp_df),\n",
    "    \n",
    "    # Correlation results\n",
    "    correlation = list(\n",
    "      rho = cor_test$estimate,\n",
    "      p_value = cor_test$p.value,\n",
    "      ci_low = cor_test$conf.int[1],\n",
    "      ci_high = cor_test$conf.int[2]\n",
    "    ),\n",
    "    \n",
    "    # Regression results\n",
    "    regression = list(\n",
    "      formula = format(formula),\n",
    "      r_squared = lm_summary$r.squared,\n",
    "      adj_r_squared = lm_summary$adj.r.squared,\n",
    "      f_statistic = lm_summary$fstatistic[1],\n",
    "      f_p_value = pf(lm_summary$fstatistic[1], \n",
    "                     lm_summary$fstatistic[2], \n",
    "                     lm_summary$fstatistic[3], \n",
    "                     lower.tail = FALSE)\n",
    "    ),\n",
    "    \n",
    "    # Key coefficient for the respiratory variable (adjusted for age/sex)\n",
    "    main_effect = list(\n",
    "      estimate = lm_summary$coefficients[v, \"Estimate\"],\n",
    "      std_error = lm_summary$coefficients[v, \"Std. Error\"],\n",
    "      t_value = lm_summary$coefficients[v, \"t value\"],\n",
    "      p_value = lm_summary$coefficients[v, \"Pr(>|t|)\"],\n",
    "      conf_low = confint(lm_model)[v, 1],\n",
    "      conf_high = confint(lm_model)[v, 2],\n",
    "      standardized_beta = lm_summary$coefficients[v, \"Estimate\"] * sd(temp_df[[v]]) / sd(temp_df$bdi_sum)\n",
    "    ),\n",
    "    \n",
    "    # Assumption checks\n",
    "    assumptions = list(\n",
    "      residuals_normal = shapiro_test$p.value > 0.05,\n",
    "      shapiro_p = shapiro_test$p.value\n",
    "    )\n",
    "  )\n",
    "}\n",
    "\n",
    "# Create a clean summary table for interpretation\n",
    "summary_table <- do.call(rbind, lapply(convergent_results, function(x) {\n",
    "  data.frame(\n",
    "    Variable = x$variable,\n",
    "    N = x$n,\n",
    "    Correlation_rho = round(x$correlation$rho, 3),\n",
    "    Correlation_p = round(x$correlation$p_value, 3),\n",
    "    Beta = round(x$main_effect$estimate, 3),\n",
    "    Std_Beta = round(x$main_effect$standardized_beta, 3),\n",
    "    SE = round(x$main_effect$std_error, 3),\n",
    "    Beta_p = round(x$main_effect$p_value, 3),\n",
    "    CI_95 = paste0(\"[\", round(x$main_effect$conf_low, 2), \", \", \n",
    "                   round(x$main_effect$conf_high, 2), \"]\"),\n",
    "    R_squared = round(x$regression$r_squared, 3),\n",
    "    Residuals_normal = x$assumptions$residuals_normal\n",
    "  )\n",
    "}))\n",
    "\n",
    "# Sort by absolute correlation strength (strongest relationships first)\n",
    "summary_table <- summary_table[order(-abs(summary_table$Correlation_rho)), ]\n",
    "\n",
    "# Print the results\n",
    "print(summary_table)"
   ]
  },
  {
   "cell_type": "markdown",
   "id": "c1655aa3",
   "metadata": {},
   "source": [
    "## Lasso Logistic"
   ]
  },
  {
   "cell_type": "code",
   "execution_count": 77,
   "id": "11de9d49",
   "metadata": {},
   "outputs": [
    {
     "name": "stdout",
     "output_type": "stream",
     "text": [
      "[1] \"(Intercept)\"  \"mip_pre_max\"  \"mip_post_max\"\n",
      "13 x 1 sparse Matrix of class \"dgCMatrix\"\n",
      "                 lambda.min\n",
      "(Intercept)      5.25944715\n",
      "mip_pre_max     -0.04614875\n",
      "smip_pre_max     .         \n",
      "pif_pre_max      .         \n",
      "sindex_pre_max   .         \n",
      "volume_pre_max   .         \n",
      "fit_pre_max      .         \n",
      "mip_post_max    -0.01717136\n",
      "smip_post_max    .         \n",
      "pif_post_max     .         \n",
      "sindex_post_max  .         \n",
      "volume_post_max  .         \n",
      "fit_post_max     .         \n"
     ]
    }
   ],
   "source": [
    "library(glmnet)\n",
    "\n",
    "# predictors matrix (complete cases across chosen variables)\n",
    "dat_lasso <- df_cs %>% select(all_of(resp_vars), covid_group) %>% na.omit()\n",
    "x <- as.matrix(dat_lasso %>% select(-covid_group))\n",
    "y <- dat_lasso$covid_group\n",
    "\n",
    "set.seed(123)\n",
    "cvfit <- cv.glmnet(x, y, family = \"binomial\", alpha = 1, nfolds = 10, standardize = TRUE)\n",
    "cvfit$lambda.min; cvfit$lambda.1se\n",
    "\n",
    "# non-zero coefficients at the more parsimonious lambda.1se\n",
    "coef_1se <- coef(cvfit, s = \"lambda.1se\")\n",
    "keep <- which(as.numeric(coef_1se) != 0)\n",
    "lasso_keep <- rownames(coef_1se)[keep]\n",
    "print(lasso_keep)\n",
    "\n",
    "# predicted probs and AUC\n",
    "pred <- as.numeric(predict(cvfit, newx = x, s = \"lambda.1se\", type = \"response\"))\n",
    "auc(cvfit_roc <- roc(y, pred, quiet=TRUE))\n",
    "ci.auc(cvfit_roc)\n",
    "\n",
    "# Check coefficients at lambda.min\n",
    "coef_min <- coef(cvfit, s = \"lambda.min\")\n",
    "print(coef_min)\n"
   ]
  }
 ],
 "metadata": {
  "language_info": {
   "name": "r"
  }
 },
 "nbformat": 4,
 "nbformat_minor": 5
}
