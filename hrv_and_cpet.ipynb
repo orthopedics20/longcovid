{
 "cells": [
  {
   "cell_type": "code",
   "execution_count": 1,
   "metadata": {},
   "outputs": [],
   "source": [
    "import pandas as pd\n",
    "import numpy as np\n",
    "from scipy.signal import welch\n",
    "from scipy.signal import find_peaks\n",
    "from scipy.integrate import trapz\n"
   ]
  },
  {
   "cell_type": "markdown",
   "metadata": {},
   "source": [
    "# HRV"
   ]
  },
  {
   "cell_type": "code",
   "execution_count": 25,
   "metadata": {},
   "outputs": [
    {
     "name": "stdout",
     "output_type": "stream",
     "text": [
      "SDNN: 71.92 ms\n",
      "RMSSD: 63.49 ms\n",
      "Heart Rate: 57.03 bpm\n",
      "LF%: 43.23%\n",
      "HF%: 56.77%\n",
      "LF/HF Ratio: 0.76\n"
     ]
    },
    {
     "name": "stderr",
     "output_type": "stream",
     "text": [
      "c:\\ProgramData\\anaconda3\\Lib\\site-packages\\scipy\\signal\\_spectral_py.py:600: UserWarning: nperseg = 1024 is greater than input length  = 578, using nperseg = 578\n",
      "  freqs, _, Pxy = _spectral_helper(x, y, fs, window, nperseg, noverlap,\n"
     ]
    }
   ],
   "source": [
    "# Load RR intervals from the file\n",
    "rr_intervals = pd.read_csv('PCS06_V2_RRIntervals.csv')  # Replace with your file name\n",
    "rr_intervals = rr_intervals[' rr'].values  # Assuming the column is named 'RR_intervals'\n",
    "\n",
    "# Calculate SDNN\n",
    "sdnn = np.std(rr_intervals)\n",
    "\n",
    "# Calculate RMSSD\n",
    "differences = np.diff(rr_intervals)\n",
    "rmssd = np.sqrt(np.mean(differences ** 2))\n",
    "\n",
    "# Calculate Heart Rate\n",
    "heart_rate = 60000 / np.mean(rr_intervals)  # Assuming RR intervals are in milliseconds\n",
    "\n",
    "# Calculate LF and HF\n",
    "time = np.cumsum(rr_intervals) / 1000.0  # Convert to seconds\n",
    "fs = 4.0  # Sampling frequency (Hz)\n",
    "f, psd = welch(rr_intervals, fs=fs, nperseg=1024)\n",
    "lf_band = (0.04, 0.15)  # Low-frequency band\n",
    "hf_band = (0.15, 0.4)   # High-frequency band\n",
    "lf_power = np.trapz(psd[(f >= lf_band[0]) & (f <= lf_band[1])], f[(f >= lf_band[0]) & (f <= lf_band[1])])\n",
    "hf_power = np.trapz(psd[(f >= hf_band[0]) & (f <= hf_band[1])], f[(f >= hf_band[0]) & (f <= hf_band[1])])\n",
    "total_power = lf_power + hf_power\n",
    "lf_percent = (lf_power / total_power) * 100\n",
    "hf_percent = (hf_power / total_power) * 100\n",
    "lf_hf_ratio = lf_power / hf_power\n",
    "\n",
    "print(f\"SDNN: {sdnn:.2f} ms\")\n",
    "print(f\"RMSSD: {rmssd:.2f} ms\")\n",
    "print(f\"Heart Rate: {heart_rate:.2f} bpm\")\n",
    "print(f\"LF%: {lf_percent:.2f}%\")\n",
    "print(f\"HF%: {hf_percent:.2f}%\")\n",
    "print(f\"LF/HF Ratio: {lf_hf_ratio:.2f}\")"
   ]
  },
  {
   "cell_type": "markdown",
   "metadata": {},
   "source": [
    "# CPET"
   ]
  },
  {
   "cell_type": "markdown",
   "metadata": {},
   "source": [
    "## Anaerobic Threshold"
   ]
  },
  {
   "cell_type": "code",
   "execution_count": null,
   "metadata": {},
   "outputs": [
    {
     "name": "stdout",
     "output_type": "stream",
     "text": [
      "          TIME    VO2/kg          VO2      VCO2           VE     VE/VO2  \\\n",
      "0  0.618000031  5.296448  0.344269127  0.251837  9.038931847  26.255424   \n",
      "1  1.091500044  8.486753  0.551638901  0.398261  11.02357101  19.983310   \n",
      "2  1.514000058  8.986061  0.584093988  0.436395  11.62846184  19.908546   \n",
      "3  2.064333439  9.358850  0.608325303  0.462150  12.32812214  20.265674   \n",
      "4  2.626000166  9.190443   0.59737879  0.470092  12.44020176  20.824646   \n",
      "\n",
      "        RER        RER.1        RR        Vt    HR  WorkR  HR.1    VE/VCO2  \\\n",
      "0  0.731512  0.731512249  6.472492  1.396515  84.5    0.0  84.5  35.891983   \n",
      "1  0.721959  0.721958995  6.335797  1.739887  83.0    0.0  83.0  27.679287   \n",
      "2  0.747132  0.747132242  7.100592  1.637675  85.0    0.0  85.0  26.646614   \n",
      "3  0.759709  0.759709001  7.268322  1.696144  85.0    0.0  85.0  26.675573   \n",
      "4  0.786925  0.786925137  7.121662  1.746812  87.0    0.0  87.0  26.463312   \n",
      "\n",
      "        FEO2     FECO2  \n",
      "0  16.638020  3.374905  \n",
      "1  15.299750  4.364433  \n",
      "2  15.246881  4.531940  \n",
      "3  15.331653  4.527023  \n",
      "4  15.449441  4.562932  \n",
      "Anaerobic Threshold (VO2): 0.608325303\n"
     ]
    }
   ],
   "source": [
    "\n",
    "# Import CPET data for anaerobic threshold analysis\n",
    "df_cpet = pd.read_csv(\"PCS16_V2_CPET.csv\", header=0)\n",
    "\n",
    "# Remove any spaces in the names of the columns\n",
    "df_cpet.columns = df_cpet.columns.str.replace(' ', '')\n",
    "\n",
    "# Display the first few rows\n",
    "print(df_cpet.head())\n",
    "\n",
    "\n",
    "# Assuming df_cpet has columns: 'VO2', 'VCO2', 'VE', 'VE/VO2', 'VE/VCO2'\n",
    "# calculate the first derivative of VE/VO2 and VE/VCO2 to find the inflection points.\n",
    "\n",
    "# Calculate the derivative of VE/VO2 and VE/VCO2\n",
    "df_cpet['dVE_VO2'] = np.gradient(df_cpet['VE/VO2'])\n",
    "df_cpet['dVE_VCO2'] = np.gradient(df_cpet['VE/VCO2'])\n",
    "\n",
    "# Find peaks in the derivative which correspond to the anaerobic threshold\n",
    "peaks_VO2 = find_peaks(df_cpet['dVE_VO2'])[0]\n",
    "peaks_VCO2 = find_peaks(df_cpet['dVE_VCO2'])[0]\n",
    "\n",
    "# Assuming the anaerobic threshold is at the first peak (can be adjusted based on the data)\n",
    "at_VO2 = df_cpet['VO2'].iloc[peaks_VO2[0]] if len(peaks_VO2) > 0 else None\n",
    "\n",
    "print(f\"Anaerobic Threshold (VO2): {at_VO2}\")\n"
   ]
  },
  {
   "cell_type": "code",
   "execution_count": 14,
   "metadata": {},
   "outputs": [
    {
     "ename": "TypeError",
     "evalue": "'value' must be an instance of str or bytes, not a float",
     "output_type": "error",
     "traceback": [
      "\u001b[1;31m---------------------------------------------------------------------------\u001b[0m",
      "\u001b[1;31mTypeError\u001b[0m                                 Traceback (most recent call last)",
      "Cell \u001b[1;32mIn[14], line 2\u001b[0m\n\u001b[0;32m      1\u001b[0m \u001b[38;5;28;01mimport\u001b[39;00m \u001b[38;5;21;01mmatplotlib\u001b[39;00m\u001b[38;5;21;01m.\u001b[39;00m\u001b[38;5;21;01mpyplot\u001b[39;00m \u001b[38;5;28;01mas\u001b[39;00m \u001b[38;5;21;01mplt\u001b[39;00m\n\u001b[1;32m----> 2\u001b[0m plt\u001b[38;5;241m.\u001b[39mplot(df_cpet[\u001b[38;5;124m'\u001b[39m\u001b[38;5;124mVO2\u001b[39m\u001b[38;5;124m'\u001b[39m], df_cpet[\u001b[38;5;124m'\u001b[39m\u001b[38;5;124mVE/VO2\u001b[39m\u001b[38;5;124m'\u001b[39m], label\u001b[38;5;241m=\u001b[39m\u001b[38;5;124m'\u001b[39m\u001b[38;5;124mVE/VO2\u001b[39m\u001b[38;5;124m'\u001b[39m)\n\u001b[0;32m      3\u001b[0m plt\u001b[38;5;241m.\u001b[39mplot(df_cpet[\u001b[38;5;124m'\u001b[39m\u001b[38;5;124mVO2\u001b[39m\u001b[38;5;124m'\u001b[39m], df_cpet[\u001b[38;5;124m'\u001b[39m\u001b[38;5;124mdVE_VO2\u001b[39m\u001b[38;5;124m'\u001b[39m], label\u001b[38;5;241m=\u001b[39m\u001b[38;5;124m'\u001b[39m\u001b[38;5;124md(VE/VO2)/dt\u001b[39m\u001b[38;5;124m'\u001b[39m)\n\u001b[0;32m      4\u001b[0m plt\u001b[38;5;241m.\u001b[39maxvline(x\u001b[38;5;241m=\u001b[39mat_VO2, color\u001b[38;5;241m=\u001b[39m\u001b[38;5;124m'\u001b[39m\u001b[38;5;124mr\u001b[39m\u001b[38;5;124m'\u001b[39m, linestyle\u001b[38;5;241m=\u001b[39m\u001b[38;5;124m'\u001b[39m\u001b[38;5;124m--\u001b[39m\u001b[38;5;124m'\u001b[39m, label\u001b[38;5;241m=\u001b[39m\u001b[38;5;124m'\u001b[39m\u001b[38;5;124mDetected AT\u001b[39m\u001b[38;5;124m'\u001b[39m)\n",
      "File \u001b[1;32mc:\\ProgramData\\anaconda3\\Lib\\site-packages\\matplotlib\\pyplot.py:3590\u001b[0m, in \u001b[0;36mplot\u001b[1;34m(scalex, scaley, data, *args, **kwargs)\u001b[0m\n\u001b[0;32m   3582\u001b[0m \u001b[38;5;129m@_copy_docstring_and_deprecators\u001b[39m(Axes\u001b[38;5;241m.\u001b[39mplot)\n\u001b[0;32m   3583\u001b[0m \u001b[38;5;28;01mdef\u001b[39;00m \u001b[38;5;21mplot\u001b[39m(\n\u001b[0;32m   3584\u001b[0m     \u001b[38;5;241m*\u001b[39margs: \u001b[38;5;28mfloat\u001b[39m \u001b[38;5;241m|\u001b[39m ArrayLike \u001b[38;5;241m|\u001b[39m \u001b[38;5;28mstr\u001b[39m,\n\u001b[1;32m   (...)\u001b[0m\n\u001b[0;32m   3588\u001b[0m     \u001b[38;5;241m*\u001b[39m\u001b[38;5;241m*\u001b[39mkwargs,\n\u001b[0;32m   3589\u001b[0m ) \u001b[38;5;241m-\u001b[39m\u001b[38;5;241m>\u001b[39m \u001b[38;5;28mlist\u001b[39m[Line2D]:\n\u001b[1;32m-> 3590\u001b[0m     \u001b[38;5;28;01mreturn\u001b[39;00m gca()\u001b[38;5;241m.\u001b[39mplot(\n\u001b[0;32m   3591\u001b[0m         \u001b[38;5;241m*\u001b[39margs,\n\u001b[0;32m   3592\u001b[0m         scalex\u001b[38;5;241m=\u001b[39mscalex,\n\u001b[0;32m   3593\u001b[0m         scaley\u001b[38;5;241m=\u001b[39mscaley,\n\u001b[0;32m   3594\u001b[0m         \u001b[38;5;241m*\u001b[39m\u001b[38;5;241m*\u001b[39m({\u001b[38;5;124m\"\u001b[39m\u001b[38;5;124mdata\u001b[39m\u001b[38;5;124m\"\u001b[39m: data} \u001b[38;5;28;01mif\u001b[39;00m data \u001b[38;5;129;01mis\u001b[39;00m \u001b[38;5;129;01mnot\u001b[39;00m \u001b[38;5;28;01mNone\u001b[39;00m \u001b[38;5;28;01melse\u001b[39;00m {}),\n\u001b[0;32m   3595\u001b[0m         \u001b[38;5;241m*\u001b[39m\u001b[38;5;241m*\u001b[39mkwargs,\n\u001b[0;32m   3596\u001b[0m     )\n",
      "File \u001b[1;32mc:\\ProgramData\\anaconda3\\Lib\\site-packages\\matplotlib\\axes\\_axes.py:1724\u001b[0m, in \u001b[0;36mAxes.plot\u001b[1;34m(self, scalex, scaley, data, *args, **kwargs)\u001b[0m\n\u001b[0;32m   1481\u001b[0m \u001b[38;5;250m\u001b[39m\u001b[38;5;124;03m\"\"\"\u001b[39;00m\n\u001b[0;32m   1482\u001b[0m \u001b[38;5;124;03mPlot y versus x as lines and/or markers.\u001b[39;00m\n\u001b[0;32m   1483\u001b[0m \n\u001b[1;32m   (...)\u001b[0m\n\u001b[0;32m   1721\u001b[0m \u001b[38;5;124;03m(``'green'``) or hex strings (``'#008000'``).\u001b[39;00m\n\u001b[0;32m   1722\u001b[0m \u001b[38;5;124;03m\"\"\"\u001b[39;00m\n\u001b[0;32m   1723\u001b[0m kwargs \u001b[38;5;241m=\u001b[39m cbook\u001b[38;5;241m.\u001b[39mnormalize_kwargs(kwargs, mlines\u001b[38;5;241m.\u001b[39mLine2D)\n\u001b[1;32m-> 1724\u001b[0m lines \u001b[38;5;241m=\u001b[39m [\u001b[38;5;241m*\u001b[39m\u001b[38;5;28mself\u001b[39m\u001b[38;5;241m.\u001b[39m_get_lines(\u001b[38;5;28mself\u001b[39m, \u001b[38;5;241m*\u001b[39margs, data\u001b[38;5;241m=\u001b[39mdata, \u001b[38;5;241m*\u001b[39m\u001b[38;5;241m*\u001b[39mkwargs)]\n\u001b[0;32m   1725\u001b[0m \u001b[38;5;28;01mfor\u001b[39;00m line \u001b[38;5;129;01min\u001b[39;00m lines:\n\u001b[0;32m   1726\u001b[0m     \u001b[38;5;28mself\u001b[39m\u001b[38;5;241m.\u001b[39madd_line(line)\n",
      "File \u001b[1;32mc:\\ProgramData\\anaconda3\\Lib\\site-packages\\matplotlib\\axes\\_base.py:303\u001b[0m, in \u001b[0;36m_process_plot_var_args.__call__\u001b[1;34m(self, axes, data, *args, **kwargs)\u001b[0m\n\u001b[0;32m    301\u001b[0m     this \u001b[38;5;241m+\u001b[39m\u001b[38;5;241m=\u001b[39m args[\u001b[38;5;241m0\u001b[39m],\n\u001b[0;32m    302\u001b[0m     args \u001b[38;5;241m=\u001b[39m args[\u001b[38;5;241m1\u001b[39m:]\n\u001b[1;32m--> 303\u001b[0m \u001b[38;5;28;01myield from\u001b[39;00m \u001b[38;5;28mself\u001b[39m\u001b[38;5;241m.\u001b[39m_plot_args(\n\u001b[0;32m    304\u001b[0m     axes, this, kwargs, ambiguous_fmt_datakey\u001b[38;5;241m=\u001b[39mambiguous_fmt_datakey)\n",
      "File \u001b[1;32mc:\\ProgramData\\anaconda3\\Lib\\site-packages\\matplotlib\\axes\\_base.py:494\u001b[0m, in \u001b[0;36m_process_plot_var_args._plot_args\u001b[1;34m(self, axes, tup, kwargs, return_kwargs, ambiguous_fmt_datakey)\u001b[0m\n\u001b[0;32m    491\u001b[0m     x, y \u001b[38;5;241m=\u001b[39m index_of(xy[\u001b[38;5;241m-\u001b[39m\u001b[38;5;241m1\u001b[39m])\n\u001b[0;32m    493\u001b[0m \u001b[38;5;28;01mif\u001b[39;00m axes\u001b[38;5;241m.\u001b[39mxaxis \u001b[38;5;129;01mis\u001b[39;00m \u001b[38;5;129;01mnot\u001b[39;00m \u001b[38;5;28;01mNone\u001b[39;00m:\n\u001b[1;32m--> 494\u001b[0m     axes\u001b[38;5;241m.\u001b[39mxaxis\u001b[38;5;241m.\u001b[39mupdate_units(x)\n\u001b[0;32m    495\u001b[0m \u001b[38;5;28;01mif\u001b[39;00m axes\u001b[38;5;241m.\u001b[39myaxis \u001b[38;5;129;01mis\u001b[39;00m \u001b[38;5;129;01mnot\u001b[39;00m \u001b[38;5;28;01mNone\u001b[39;00m:\n\u001b[0;32m    496\u001b[0m     axes\u001b[38;5;241m.\u001b[39myaxis\u001b[38;5;241m.\u001b[39mupdate_units(y)\n",
      "File \u001b[1;32mc:\\ProgramData\\anaconda3\\Lib\\site-packages\\matplotlib\\axis.py:1712\u001b[0m, in \u001b[0;36mAxis.update_units\u001b[1;34m(self, data)\u001b[0m\n\u001b[0;32m   1710\u001b[0m neednew \u001b[38;5;241m=\u001b[39m \u001b[38;5;28mself\u001b[39m\u001b[38;5;241m.\u001b[39mconverter \u001b[38;5;241m!=\u001b[39m converter\n\u001b[0;32m   1711\u001b[0m \u001b[38;5;28mself\u001b[39m\u001b[38;5;241m.\u001b[39mconverter \u001b[38;5;241m=\u001b[39m converter\n\u001b[1;32m-> 1712\u001b[0m default \u001b[38;5;241m=\u001b[39m \u001b[38;5;28mself\u001b[39m\u001b[38;5;241m.\u001b[39mconverter\u001b[38;5;241m.\u001b[39mdefault_units(data, \u001b[38;5;28mself\u001b[39m)\n\u001b[0;32m   1713\u001b[0m \u001b[38;5;28;01mif\u001b[39;00m default \u001b[38;5;129;01mis\u001b[39;00m \u001b[38;5;129;01mnot\u001b[39;00m \u001b[38;5;28;01mNone\u001b[39;00m \u001b[38;5;129;01mand\u001b[39;00m \u001b[38;5;28mself\u001b[39m\u001b[38;5;241m.\u001b[39munits \u001b[38;5;129;01mis\u001b[39;00m \u001b[38;5;28;01mNone\u001b[39;00m:\n\u001b[0;32m   1714\u001b[0m     \u001b[38;5;28mself\u001b[39m\u001b[38;5;241m.\u001b[39mset_units(default)\n",
      "File \u001b[1;32mc:\\ProgramData\\anaconda3\\Lib\\site-packages\\matplotlib\\category.py:105\u001b[0m, in \u001b[0;36mStrCategoryConverter.default_units\u001b[1;34m(data, axis)\u001b[0m\n\u001b[0;32m    103\u001b[0m \u001b[38;5;66;03m# the conversion call stack is default_units -> axis_info -> convert\u001b[39;00m\n\u001b[0;32m    104\u001b[0m \u001b[38;5;28;01mif\u001b[39;00m axis\u001b[38;5;241m.\u001b[39munits \u001b[38;5;129;01mis\u001b[39;00m \u001b[38;5;28;01mNone\u001b[39;00m:\n\u001b[1;32m--> 105\u001b[0m     axis\u001b[38;5;241m.\u001b[39mset_units(UnitData(data))\n\u001b[0;32m    106\u001b[0m \u001b[38;5;28;01melse\u001b[39;00m:\n\u001b[0;32m    107\u001b[0m     axis\u001b[38;5;241m.\u001b[39munits\u001b[38;5;241m.\u001b[39mupdate(data)\n",
      "File \u001b[1;32mc:\\ProgramData\\anaconda3\\Lib\\site-packages\\matplotlib\\category.py:181\u001b[0m, in \u001b[0;36mUnitData.__init__\u001b[1;34m(self, data)\u001b[0m\n\u001b[0;32m    179\u001b[0m \u001b[38;5;28mself\u001b[39m\u001b[38;5;241m.\u001b[39m_counter \u001b[38;5;241m=\u001b[39m itertools\u001b[38;5;241m.\u001b[39mcount()\n\u001b[0;32m    180\u001b[0m \u001b[38;5;28;01mif\u001b[39;00m data \u001b[38;5;129;01mis\u001b[39;00m \u001b[38;5;129;01mnot\u001b[39;00m \u001b[38;5;28;01mNone\u001b[39;00m:\n\u001b[1;32m--> 181\u001b[0m     \u001b[38;5;28mself\u001b[39m\u001b[38;5;241m.\u001b[39mupdate(data)\n",
      "File \u001b[1;32mc:\\ProgramData\\anaconda3\\Lib\\site-packages\\matplotlib\\category.py:216\u001b[0m, in \u001b[0;36mUnitData.update\u001b[1;34m(self, data)\u001b[0m\n\u001b[0;32m    213\u001b[0m convertible \u001b[38;5;241m=\u001b[39m \u001b[38;5;28;01mTrue\u001b[39;00m\n\u001b[0;32m    214\u001b[0m \u001b[38;5;28;01mfor\u001b[39;00m val \u001b[38;5;129;01min\u001b[39;00m OrderedDict\u001b[38;5;241m.\u001b[39mfromkeys(data):\n\u001b[0;32m    215\u001b[0m     \u001b[38;5;66;03m# OrderedDict just iterates over unique values in data.\u001b[39;00m\n\u001b[1;32m--> 216\u001b[0m     _api\u001b[38;5;241m.\u001b[39mcheck_isinstance((\u001b[38;5;28mstr\u001b[39m, \u001b[38;5;28mbytes\u001b[39m), value\u001b[38;5;241m=\u001b[39mval)\n\u001b[0;32m    217\u001b[0m     \u001b[38;5;28;01mif\u001b[39;00m convertible:\n\u001b[0;32m    218\u001b[0m         \u001b[38;5;66;03m# this will only be called so long as convertible is True.\u001b[39;00m\n\u001b[0;32m    219\u001b[0m         convertible \u001b[38;5;241m=\u001b[39m \u001b[38;5;28mself\u001b[39m\u001b[38;5;241m.\u001b[39m_str_is_convertible(val)\n",
      "File \u001b[1;32mc:\\ProgramData\\anaconda3\\Lib\\site-packages\\matplotlib\\_api\\__init__.py:91\u001b[0m, in \u001b[0;36mcheck_isinstance\u001b[1;34m(types, **kwargs)\u001b[0m\n\u001b[0;32m     89\u001b[0m     names\u001b[38;5;241m.\u001b[39mremove(\u001b[38;5;124m\"\u001b[39m\u001b[38;5;124mNone\u001b[39m\u001b[38;5;124m\"\u001b[39m)\n\u001b[0;32m     90\u001b[0m     names\u001b[38;5;241m.\u001b[39mappend(\u001b[38;5;124m\"\u001b[39m\u001b[38;5;124mNone\u001b[39m\u001b[38;5;124m\"\u001b[39m)\n\u001b[1;32m---> 91\u001b[0m \u001b[38;5;28;01mraise\u001b[39;00m \u001b[38;5;167;01mTypeError\u001b[39;00m(\n\u001b[0;32m     92\u001b[0m     \u001b[38;5;124m\"\u001b[39m\u001b[38;5;132;01m{!r}\u001b[39;00m\u001b[38;5;124m must be an instance of \u001b[39m\u001b[38;5;132;01m{}\u001b[39;00m\u001b[38;5;124m, not a \u001b[39m\u001b[38;5;132;01m{}\u001b[39;00m\u001b[38;5;124m\"\u001b[39m\u001b[38;5;241m.\u001b[39mformat(\n\u001b[0;32m     93\u001b[0m         k,\n\u001b[0;32m     94\u001b[0m         \u001b[38;5;124m\"\u001b[39m\u001b[38;5;124m, \u001b[39m\u001b[38;5;124m\"\u001b[39m\u001b[38;5;241m.\u001b[39mjoin(names[:\u001b[38;5;241m-\u001b[39m\u001b[38;5;241m1\u001b[39m]) \u001b[38;5;241m+\u001b[39m \u001b[38;5;124m\"\u001b[39m\u001b[38;5;124m or \u001b[39m\u001b[38;5;124m\"\u001b[39m \u001b[38;5;241m+\u001b[39m names[\u001b[38;5;241m-\u001b[39m\u001b[38;5;241m1\u001b[39m]\n\u001b[0;32m     95\u001b[0m         \u001b[38;5;28;01mif\u001b[39;00m \u001b[38;5;28mlen\u001b[39m(names) \u001b[38;5;241m>\u001b[39m \u001b[38;5;241m1\u001b[39m \u001b[38;5;28;01melse\u001b[39;00m names[\u001b[38;5;241m0\u001b[39m],\n\u001b[0;32m     96\u001b[0m         type_name(\u001b[38;5;28mtype\u001b[39m(v))))\n",
      "\u001b[1;31mTypeError\u001b[0m: 'value' must be an instance of str or bytes, not a float"
     ]
    },
    {
     "data": {
      "image/png": "[encoded data removed]",
      "text/plain": [
       "<Figure size 640x480 with 1 Axes>"
      ]
     },
     "metadata": {},
     "output_type": "display_data"
    }
   ],
   "source": [
    "import matplotlib.pyplot as plt\n",
    "plt.plot(df_cpet['VO2'], df_cpet['VE/VO2'], label='VE/VO2')\n",
    "plt.plot(df_cpet['VO2'], df_cpet['dVE_VO2'], label='d(VE/VO2)/dt')\n",
    "plt.axvline(x=at_VO2, color='r', linestyle='--', label='Detected AT')\n",
    "plt.legend()\n",
    "plt.xlabel('VO2')\n",
    "plt.show()"
   ]
  },
  {
   "cell_type": "markdown",
   "metadata": {},
   "source": [
    "# FMD"
   ]
  },
  {
   "cell_type": "code",
   "execution_count": 15,
   "metadata": {},
   "outputs": [
    {
     "data": {
      "text/html": [
       "<div>\n",
       "<style scoped>\n",
       "    .dataframe tbody tr th:only-of-type {\n",
       "        vertical-align: middle;\n",
       "    }\n",
       "\n",
       "    .dataframe tbody tr th {\n",
       "        vertical-align: top;\n",
       "    }\n",
       "\n",
       "    .dataframe thead th {\n",
       "        text-align: right;\n",
       "    }\n",
       "</style>\n",
       "<table border=\"1\" class=\"dataframe\">\n",
       "  <thead>\n",
       "    <tr style=\"text-align: right;\">\n",
       "      <th></th>\n",
       "      <th>Time [min:sec]</th>\n",
       "      <th>Mean Diameter [mm]</th>\n",
       "      <th>Positive Shear Rate [sec-1]</th>\n",
       "      <th>Negative Shear Rate [sec-1]</th>\n",
       "      <th>Positive Velocity [cm/sec]</th>\n",
       "      <th>Negative Velocity [cm/sec]</th>\n",
       "      <th>Unnamed: 6</th>\n",
       "      <th>Time [ms]</th>\n",
       "      <th>Instant Diameter [mm]</th>\n",
       "      <th>Mean Diameter [mm].1</th>\n",
       "      <th>Positive Velocity [cm/sec].1</th>\n",
       "      <th>Negative Velocity [cm/sec].1</th>\n",
       "    </tr>\n",
       "  </thead>\n",
       "  <tbody>\n",
       "    <tr>\n",
       "      <th>0</th>\n",
       "      <td>00:00</td>\n",
       "      <td>4.270</td>\n",
       "      <td>308.9</td>\n",
       "      <td>-61.9</td>\n",
       "      <td>32.97</td>\n",
       "      <td>-6.61</td>\n",
       "      <td>NaN</td>\n",
       "      <td>0</td>\n",
       "      <td>4.273</td>\n",
       "      <td>4.270</td>\n",
       "      <td>32.97</td>\n",
       "      <td>-6.61</td>\n",
       "    </tr>\n",
       "    <tr>\n",
       "      <th>1</th>\n",
       "      <td>00:01</td>\n",
       "      <td>4.270</td>\n",
       "      <td>284.2</td>\n",
       "      <td>-68.8</td>\n",
       "      <td>30.34</td>\n",
       "      <td>-7.34</td>\n",
       "      <td>NaN</td>\n",
       "      <td>33</td>\n",
       "      <td>4.271</td>\n",
       "      <td>4.270</td>\n",
       "      <td>32.88</td>\n",
       "      <td>-6.64</td>\n",
       "    </tr>\n",
       "    <tr>\n",
       "      <th>2</th>\n",
       "      <td>00:02</td>\n",
       "      <td>4.269</td>\n",
       "      <td>268.7</td>\n",
       "      <td>-68.9</td>\n",
       "      <td>28.67</td>\n",
       "      <td>-7.35</td>\n",
       "      <td>NaN</td>\n",
       "      <td>66</td>\n",
       "      <td>4.278</td>\n",
       "      <td>4.270</td>\n",
       "      <td>32.82</td>\n",
       "      <td>-6.65</td>\n",
       "    </tr>\n",
       "    <tr>\n",
       "      <th>3</th>\n",
       "      <td>00:03</td>\n",
       "      <td>4.269</td>\n",
       "      <td>267.8</td>\n",
       "      <td>-70.4</td>\n",
       "      <td>28.58</td>\n",
       "      <td>-7.51</td>\n",
       "      <td>NaN</td>\n",
       "      <td>100</td>\n",
       "      <td>4.279</td>\n",
       "      <td>4.271</td>\n",
       "      <td>32.78</td>\n",
       "      <td>-6.67</td>\n",
       "    </tr>\n",
       "    <tr>\n",
       "      <th>4</th>\n",
       "      <td>00:04</td>\n",
       "      <td>4.268</td>\n",
       "      <td>262.1</td>\n",
       "      <td>-70.2</td>\n",
       "      <td>27.96</td>\n",
       "      <td>-7.49</td>\n",
       "      <td>NaN</td>\n",
       "      <td>133</td>\n",
       "      <td>4.275</td>\n",
       "      <td>4.271</td>\n",
       "      <td>32.70</td>\n",
       "      <td>-6.70</td>\n",
       "    </tr>\n",
       "  </tbody>\n",
       "</table>\n",
       "</div>"
      ],
      "text/plain": [
       "  Time [min:sec]  Mean Diameter [mm]  Positive Shear Rate [sec-1]  \\\n",
       "0          00:00               4.270                        308.9   \n",
       "1          00:01               4.270                        284.2   \n",
       "2          00:02               4.269                        268.7   \n",
       "3          00:03               4.269                        267.8   \n",
       "4          00:04               4.268                        262.1   \n",
       "\n",
       "   Negative Shear Rate [sec-1]  Positive Velocity [cm/sec]  \\\n",
       "0                        -61.9                       32.97   \n",
       "1                        -68.8                       30.34   \n",
       "2                        -68.9                       28.67   \n",
       "3                        -70.4                       28.58   \n",
       "4                        -70.2                       27.96   \n",
       "\n",
       "   Negative Velocity [cm/sec]  Unnamed: 6  Time [ms]  Instant Diameter [mm]  \\\n",
       "0                       -6.61         NaN          0                  4.273   \n",
       "1                       -7.34         NaN         33                  4.271   \n",
       "2                       -7.35         NaN         66                  4.278   \n",
       "3                       -7.51         NaN        100                  4.279   \n",
       "4                       -7.49         NaN        133                  4.275   \n",
       "\n",
       "   Mean Diameter [mm].1  Positive Velocity [cm/sec].1  \\\n",
       "0                 4.270                         32.97   \n",
       "1                 4.270                         32.88   \n",
       "2                 4.270                         32.82   \n",
       "3                 4.271                         32.78   \n",
       "4                 4.271                         32.70   \n",
       "\n",
       "   Negative Velocity [cm/sec].1  \n",
       "0                         -6.61  \n",
       "1                         -6.64  \n",
       "2                         -6.65  \n",
       "3                         -6.67  \n",
       "4                         -6.70  "
      ]
     },
     "execution_count": 15,
     "metadata": {},
     "output_type": "execute_result"
    }
   ],
   "source": [
    "# Import the FMD dataset as df_fmd\n",
    "\n",
    "filename = \"PCS04_V2_FMD.csv\"\n",
    "\n",
    "df_fmd2 = pd.read_csv(filename, engine='python')\n",
    "\n",
    "\n",
    "df_fmd = pd.read_csv(filename, skiprows=7, skipfooter=2, engine='python')\n",
    "\n",
    "df_fmd.head()"
   ]
  },
  {
   "cell_type": "code",
   "execution_count": 16,
   "metadata": {},
   "outputs": [
    {
     "name": "stdout",
     "output_type": "stream",
     "text": [
      "Diameter Baseline (cm): 0.427\n",
      "Diameter Maximum (cm): 0.475\n",
      "FMD (%): 11.32\n",
      "Shear Rate Baseline (s⁻¹): 325.15\n",
      "Shear Rate Maximum (s⁻¹): 894.22\n",
      "Shear Rate Area to Maximum (s⁻¹): 19562.50\n",
      "Hyperemia Shear Rate Max (AUC): 2197.76\n",
      "Baseline Velocity (cm/s): 34.70\n",
      "Maximum Velocity (cm/s): 97.44\n",
      "Mean Velocity (cm/s): 29.97\n",
      "Flow Rate (ml/min): 282.98\n",
      "FMD Normalized: 0.00515\n"
     ]
    },
    {
     "name": "stderr",
     "output_type": "stream",
     "text": [
      "C:\\Users\\ZCooper\\AppData\\Local\\Temp\\ipykernel_37476\\1023748718.py:31: DeprecationWarning: 'scipy.integrate.trapz' is deprecated in favour of 'scipy.integrate.trapezoid' and will be removed in SciPy 1.14.0\n",
      "  shear_rate_auc = trapz(4 * hyperemia_period['Positive Velocity [cm/sec]'] / hyperemia_period['Mean Diameter [mm]'])\n"
     ]
    }
   ],
   "source": [
    "# Convert 'Time [min:sec]' to total seconds\n",
    "df_fmd[['Minutes', 'Seconds']] = df_fmd['Time [min:sec]'].str.split(':', expand=True).astype(float)\n",
    "df_fmd['Time_seconds'] = df_fmd['Minutes'] * 60 + df_fmd['Seconds']\n",
    "df_fmd.drop(columns=['Minutes', 'Seconds'], inplace=True)\n",
    "\n",
    "# Remove rows with missing values in key columns\n",
    "df_fmd_clean = df_fmd.dropna(subset=['Mean Diameter [mm]', 'Positive Shear Rate [sec-1]', \n",
    "                                      'Negative Shear Rate [sec-1]', 'Positive Velocity [cm/sec]', \n",
    "                                      'Negative Velocity [cm/sec]'])\n",
    "\n",
    "# Define baseline and hyperemia periods based on time\n",
    "baseline_period = df_fmd_clean[df_fmd_clean['Time_seconds'] < 60]  # First 60 sec\n",
    "hyperemia_period = df_fmd_clean[(df_fmd_clean['Time_seconds'] >= 420) & (df_fmd_clean['Time_seconds'] < 480)]  # 7 to 8 min\n",
    "\n",
    "# Diameter Baseline\n",
    "diameter_baseline = baseline_period['Mean Diameter [mm]'].mean() / 10  # Convert mm to cm\n",
    "\n",
    "# Diameter Maximum\n",
    "df_fmd['Mean Diameter [mm]'] = pd.to_numeric(df_fmd['Mean Diameter [mm]'], errors='coerce')\n",
    "diameter_max = hyperemia_period['Mean Diameter [mm]'].max() / 10  # Convert mm to cm\n",
    "\n",
    "# FMD Percent\n",
    "fmd_percent = ((diameter_max - diameter_baseline) / diameter_baseline) * 100\n",
    "\n",
    "# Shear Rate\n",
    "shear_rate_baseline = df_fmd2['Positive Shear Rate Baseline [sec-1]'][0]\n",
    "shear_rate_maximum = df_fmd2['Positive Shear Rate Maximum [sec-1]'][0]\n",
    "shear_rate_areatomaximum = df_fmd2['Positive Shear Rate Area to Maximum []'][0]\n",
    "\n",
    "# Hyperemia Shear Rate Max AUC\n",
    "shear_rate_auc = trapz(4 * hyperemia_period['Positive Velocity [cm/sec]'] / hyperemia_period['Mean Diameter [mm]'])\n",
    "\n",
    "# Mean Velocity\n",
    "velocity_baseline = df_fmd2['Positive Velocity Baseline [cm/sec]'][0]\n",
    "velocity_maximum = df_fmd2['Positive Velocity Maximum [cm/sec]'][0]\n",
    "velocity_mean = df_fmd['Positive Velocity [cm/sec]'].mean()\n",
    "\n",
    "# Flow Rate\n",
    "flow_rate = (3.1416 * ((df_fmd['Mean Diameter [mm]'] / 10) / 2) ** 2 * df_fmd['Positive Velocity [cm/sec]'] * 60).mean()\n",
    "\n",
    "# FMD Normalized\n",
    "fmd_normalized = fmd_percent / shear_rate_auc\n",
    "\n",
    "print(f\"Diameter Baseline (cm): {diameter_baseline:.3f}\")\n",
    "print(f\"Diameter Maximum (cm): {diameter_max:.3f}\")\n",
    "print(f\"FMD (%): {fmd_percent:.2f}\")\n",
    "print(f\"Shear Rate Baseline (s⁻¹): {shear_rate_baseline:.2f}\")\n",
    "print(f\"Shear Rate Maximum (s⁻¹): {shear_rate_maximum:.2f}\")\n",
    "print(f\"Shear Rate Area to Maximum (s⁻¹): {shear_rate_areatomaximum:.2f}\")\n",
    "print(f\"Hyperemia Shear Rate Max (AUC): {shear_rate_auc:.2f}\")\n",
    "print(f\"Baseline Velocity (cm/s): {velocity_baseline:.2f}\")\n",
    "print(f\"Maximum Velocity (cm/s): {velocity_maximum:.2f}\")\n",
    "print(f\"Mean Velocity (cm/s): {velocity_mean:.2f}\")\n",
    "print(f\"Flow Rate (ml/min): {flow_rate:.2f}\")\n",
    "print(f\"FMD Normalized: {fmd_normalized:.5f}\")\n"
   ]
  },
  {
   "cell_type": "code",
   "execution_count": null,
   "metadata": {},
   "outputs": [
    {
     "name": "stdout",
     "output_type": "stream",
     "text": [
      "[]\n"
     ]
    }
   ],
   "source": []
  }
 ],
 "metadata": {
  "kernelspec": {
   "display_name": "base",
   "language": "python",
   "name": "python3"
  },
  "language_info": {
   "codemirror_mode": {
    "name": "ipython",
    "version": 3
   },
   "file_extension": ".py",
   "mimetype": "text/x-python",
   "name": "python",
   "nbconvert_exporter": "python",
   "pygments_lexer": "ipython3",
   "version": "3.12.4"
  }
 },
 "nbformat": 4,
 "nbformat_minor": 2
}
